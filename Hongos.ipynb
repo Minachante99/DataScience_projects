{
 "cells": [
  {
   "cell_type": "code",
   "execution_count": 3,
   "id": "6d60b43b",
   "metadata": {},
   "outputs": [],
   "source": [
    "import numpy as np\n",
    "import pandas as pd\n",
    "import matplotlib.pyplot as plt\n",
    "import seaborn as sns\n",
    "from sklearn.utils import resample"
   ]
  },
  {
   "cell_type": "code",
   "execution_count": 39,
   "id": "e825a953",
   "metadata": {},
   "outputs": [],
   "source": [
    "import sys\n",
    "sys.path.append(\"D:\\\\Programacion\\\\Proyectos\\\\Tools\")"
   ]
  },
  {
   "cell_type": "code",
   "execution_count": 7,
   "id": "e870953c",
   "metadata": {},
   "outputs": [],
   "source": [
    "import mlt_class as mlt"
   ]
  },
  {
   "cell_type": "markdown",
   "id": "780cade9",
   "metadata": {},
   "source": [
    "# Loading Dataset"
   ]
  },
  {
   "cell_type": "code",
   "execution_count": 4,
   "id": "2fe89acb",
   "metadata": {},
   "outputs": [],
   "source": [
    "df = pd.read_csv(r'D:\\Programacion\\Datasets\\mushroom_cleaned.csv\\mushroom_cleaned.csv')"
   ]
  },
  {
   "cell_type": "code",
   "execution_count": 4,
   "id": "c2148fb6",
   "metadata": {},
   "outputs": [
    {
     "data": {
      "text/html": [
       "<div>\n",
       "<style scoped>\n",
       "    .dataframe tbody tr th:only-of-type {\n",
       "        vertical-align: middle;\n",
       "    }\n",
       "\n",
       "    .dataframe tbody tr th {\n",
       "        vertical-align: top;\n",
       "    }\n",
       "\n",
       "    .dataframe thead th {\n",
       "        text-align: right;\n",
       "    }\n",
       "</style>\n",
       "<table border=\"1\" class=\"dataframe\">\n",
       "  <thead>\n",
       "    <tr style=\"text-align: right;\">\n",
       "      <th></th>\n",
       "      <th>Cap_Diameter</th>\n",
       "      <th>Cap_Shape</th>\n",
       "      <th>Gill_Attachment</th>\n",
       "      <th>Gill_Color</th>\n",
       "      <th>Stem_Height</th>\n",
       "      <th>Stem_Width</th>\n",
       "      <th>Stem_Color</th>\n",
       "      <th>Season</th>\n",
       "      <th>Class</th>\n",
       "    </tr>\n",
       "  </thead>\n",
       "  <tbody>\n",
       "    <tr>\n",
       "      <th>0</th>\n",
       "      <td>1372</td>\n",
       "      <td>2</td>\n",
       "      <td>2</td>\n",
       "      <td>10</td>\n",
       "      <td>3.807467</td>\n",
       "      <td>1545</td>\n",
       "      <td>11</td>\n",
       "      <td>1.804273</td>\n",
       "      <td>1</td>\n",
       "    </tr>\n",
       "    <tr>\n",
       "      <th>1</th>\n",
       "      <td>1461</td>\n",
       "      <td>2</td>\n",
       "      <td>2</td>\n",
       "      <td>10</td>\n",
       "      <td>3.807467</td>\n",
       "      <td>1557</td>\n",
       "      <td>11</td>\n",
       "      <td>1.804273</td>\n",
       "      <td>1</td>\n",
       "    </tr>\n",
       "    <tr>\n",
       "      <th>2</th>\n",
       "      <td>1371</td>\n",
       "      <td>2</td>\n",
       "      <td>2</td>\n",
       "      <td>10</td>\n",
       "      <td>3.612496</td>\n",
       "      <td>1566</td>\n",
       "      <td>11</td>\n",
       "      <td>1.804273</td>\n",
       "      <td>1</td>\n",
       "    </tr>\n",
       "    <tr>\n",
       "      <th>3</th>\n",
       "      <td>1261</td>\n",
       "      <td>6</td>\n",
       "      <td>2</td>\n",
       "      <td>10</td>\n",
       "      <td>3.787572</td>\n",
       "      <td>1566</td>\n",
       "      <td>11</td>\n",
       "      <td>1.804273</td>\n",
       "      <td>1</td>\n",
       "    </tr>\n",
       "    <tr>\n",
       "      <th>4</th>\n",
       "      <td>1305</td>\n",
       "      <td>6</td>\n",
       "      <td>2</td>\n",
       "      <td>10</td>\n",
       "      <td>3.711971</td>\n",
       "      <td>1464</td>\n",
       "      <td>11</td>\n",
       "      <td>0.943195</td>\n",
       "      <td>1</td>\n",
       "    </tr>\n",
       "    <tr>\n",
       "      <th>...</th>\n",
       "      <td>...</td>\n",
       "      <td>...</td>\n",
       "      <td>...</td>\n",
       "      <td>...</td>\n",
       "      <td>...</td>\n",
       "      <td>...</td>\n",
       "      <td>...</td>\n",
       "      <td>...</td>\n",
       "      <td>...</td>\n",
       "    </tr>\n",
       "    <tr>\n",
       "      <th>54030</th>\n",
       "      <td>73</td>\n",
       "      <td>5</td>\n",
       "      <td>3</td>\n",
       "      <td>2</td>\n",
       "      <td>0.887740</td>\n",
       "      <td>569</td>\n",
       "      <td>12</td>\n",
       "      <td>0.943195</td>\n",
       "      <td>1</td>\n",
       "    </tr>\n",
       "    <tr>\n",
       "      <th>54031</th>\n",
       "      <td>82</td>\n",
       "      <td>2</td>\n",
       "      <td>3</td>\n",
       "      <td>2</td>\n",
       "      <td>1.186164</td>\n",
       "      <td>490</td>\n",
       "      <td>12</td>\n",
       "      <td>0.943195</td>\n",
       "      <td>1</td>\n",
       "    </tr>\n",
       "    <tr>\n",
       "      <th>54032</th>\n",
       "      <td>82</td>\n",
       "      <td>5</td>\n",
       "      <td>3</td>\n",
       "      <td>2</td>\n",
       "      <td>0.915593</td>\n",
       "      <td>584</td>\n",
       "      <td>12</td>\n",
       "      <td>0.888450</td>\n",
       "      <td>1</td>\n",
       "    </tr>\n",
       "    <tr>\n",
       "      <th>54033</th>\n",
       "      <td>79</td>\n",
       "      <td>2</td>\n",
       "      <td>3</td>\n",
       "      <td>2</td>\n",
       "      <td>1.034963</td>\n",
       "      <td>491</td>\n",
       "      <td>12</td>\n",
       "      <td>0.888450</td>\n",
       "      <td>1</td>\n",
       "    </tr>\n",
       "    <tr>\n",
       "      <th>54034</th>\n",
       "      <td>72</td>\n",
       "      <td>5</td>\n",
       "      <td>3</td>\n",
       "      <td>2</td>\n",
       "      <td>1.158311</td>\n",
       "      <td>492</td>\n",
       "      <td>12</td>\n",
       "      <td>0.888450</td>\n",
       "      <td>1</td>\n",
       "    </tr>\n",
       "  </tbody>\n",
       "</table>\n",
       "<p>54035 rows × 9 columns</p>\n",
       "</div>"
      ],
      "text/plain": [
       "       Cap_Diameter  Cap_Shape  Gill_Attachment  Gill_Color  Stem_Height  \\\n",
       "0              1372          2                2          10     3.807467   \n",
       "1              1461          2                2          10     3.807467   \n",
       "2              1371          2                2          10     3.612496   \n",
       "3              1261          6                2          10     3.787572   \n",
       "4              1305          6                2          10     3.711971   \n",
       "...             ...        ...              ...         ...          ...   \n",
       "54030            73          5                3           2     0.887740   \n",
       "54031            82          2                3           2     1.186164   \n",
       "54032            82          5                3           2     0.915593   \n",
       "54033            79          2                3           2     1.034963   \n",
       "54034            72          5                3           2     1.158311   \n",
       "\n",
       "       Stem_Width  Stem_Color    Season  Class  \n",
       "0            1545          11  1.804273      1  \n",
       "1            1557          11  1.804273      1  \n",
       "2            1566          11  1.804273      1  \n",
       "3            1566          11  1.804273      1  \n",
       "4            1464          11  0.943195      1  \n",
       "...           ...         ...       ...    ...  \n",
       "54030         569          12  0.943195      1  \n",
       "54031         490          12  0.943195      1  \n",
       "54032         584          12  0.888450      1  \n",
       "54033         491          12  0.888450      1  \n",
       "54034         492          12  0.888450      1  \n",
       "\n",
       "[54035 rows x 9 columns]"
      ]
     },
     "execution_count": 4,
     "metadata": {},
     "output_type": "execute_result"
    }
   ],
   "source": [
    "df"
   ]
  },
  {
   "cell_type": "code",
   "execution_count": 5,
   "id": "55167f16",
   "metadata": {},
   "outputs": [],
   "source": [
    "df.columns = [col.capitalize() if '-' not in col else '_'.join(list(map(lambda x: x.capitalize(),col.split('-')))) for col in df.columns]"
   ]
  },
  {
   "cell_type": "code",
   "execution_count": 5,
   "id": "20032903",
   "metadata": {
    "scrolled": true
   },
   "outputs": [
    {
     "name": "stdout",
     "output_type": "stream",
     "text": [
      "<class 'pandas.core.frame.DataFrame'>\n",
      "RangeIndex: 54035 entries, 0 to 54034\n",
      "Data columns (total 9 columns):\n",
      " #   Column           Non-Null Count  Dtype  \n",
      "---  ------           --------------  -----  \n",
      " 0   Cap_Diameter     54035 non-null  int64  \n",
      " 1   Cap_Shape        54035 non-null  int64  \n",
      " 2   Gill_Attachment  54035 non-null  int64  \n",
      " 3   Gill_Color       54035 non-null  int64  \n",
      " 4   Stem_Height      54035 non-null  float64\n",
      " 5   Stem_Width       54035 non-null  int64  \n",
      " 6   Stem_Color       54035 non-null  int64  \n",
      " 7   Season           54035 non-null  float64\n",
      " 8   Class            54035 non-null  int64  \n",
      "dtypes: float64(2), int64(7)\n",
      "memory usage: 3.7 MB\n"
     ]
    }
   ],
   "source": [
    "df.info()"
   ]
  },
  {
   "cell_type": "code",
   "execution_count": 30,
   "id": "3098f28e",
   "metadata": {},
   "outputs": [
    {
     "data": {
      "text/html": [
       "<div>\n",
       "<style scoped>\n",
       "    .dataframe tbody tr th:only-of-type {\n",
       "        vertical-align: middle;\n",
       "    }\n",
       "\n",
       "    .dataframe tbody tr th {\n",
       "        vertical-align: top;\n",
       "    }\n",
       "\n",
       "    .dataframe thead th {\n",
       "        text-align: right;\n",
       "    }\n",
       "</style>\n",
       "<table border=\"1\" class=\"dataframe\">\n",
       "  <thead>\n",
       "    <tr style=\"text-align: right;\">\n",
       "      <th></th>\n",
       "      <th>Cap_Diameter</th>\n",
       "      <th>Cap_Shape</th>\n",
       "      <th>Gill_Attachment</th>\n",
       "      <th>Gill_Color</th>\n",
       "      <th>Stem_Height</th>\n",
       "      <th>Stem_Width</th>\n",
       "      <th>Stem_Color</th>\n",
       "      <th>Season</th>\n",
       "      <th>Class</th>\n",
       "    </tr>\n",
       "  </thead>\n",
       "  <tbody>\n",
       "    <tr>\n",
       "      <th>count</th>\n",
       "      <td>54035.000000</td>\n",
       "      <td>54035.000000</td>\n",
       "      <td>54035.000000</td>\n",
       "      <td>54035.000000</td>\n",
       "      <td>54035.000000</td>\n",
       "      <td>54035.000000</td>\n",
       "      <td>54035.000000</td>\n",
       "      <td>54035.000000</td>\n",
       "      <td>54035.000000</td>\n",
       "    </tr>\n",
       "    <tr>\n",
       "      <th>mean</th>\n",
       "      <td>567.257204</td>\n",
       "      <td>4.000315</td>\n",
       "      <td>2.142056</td>\n",
       "      <td>7.329509</td>\n",
       "      <td>0.759110</td>\n",
       "      <td>1051.081299</td>\n",
       "      <td>8.418062</td>\n",
       "      <td>0.952163</td>\n",
       "      <td>0.549181</td>\n",
       "    </tr>\n",
       "    <tr>\n",
       "      <th>std</th>\n",
       "      <td>359.883763</td>\n",
       "      <td>2.160505</td>\n",
       "      <td>2.228821</td>\n",
       "      <td>3.200266</td>\n",
       "      <td>0.650969</td>\n",
       "      <td>782.056076</td>\n",
       "      <td>3.262078</td>\n",
       "      <td>0.305594</td>\n",
       "      <td>0.497580</td>\n",
       "    </tr>\n",
       "    <tr>\n",
       "      <th>min</th>\n",
       "      <td>0.000000</td>\n",
       "      <td>0.000000</td>\n",
       "      <td>0.000000</td>\n",
       "      <td>0.000000</td>\n",
       "      <td>0.000426</td>\n",
       "      <td>0.000000</td>\n",
       "      <td>0.000000</td>\n",
       "      <td>0.027372</td>\n",
       "      <td>0.000000</td>\n",
       "    </tr>\n",
       "    <tr>\n",
       "      <th>25%</th>\n",
       "      <td>289.000000</td>\n",
       "      <td>2.000000</td>\n",
       "      <td>0.000000</td>\n",
       "      <td>5.000000</td>\n",
       "      <td>0.270997</td>\n",
       "      <td>421.000000</td>\n",
       "      <td>6.000000</td>\n",
       "      <td>0.888450</td>\n",
       "      <td>0.000000</td>\n",
       "    </tr>\n",
       "    <tr>\n",
       "      <th>50%</th>\n",
       "      <td>525.000000</td>\n",
       "      <td>5.000000</td>\n",
       "      <td>1.000000</td>\n",
       "      <td>8.000000</td>\n",
       "      <td>0.593295</td>\n",
       "      <td>923.000000</td>\n",
       "      <td>11.000000</td>\n",
       "      <td>0.943195</td>\n",
       "      <td>1.000000</td>\n",
       "    </tr>\n",
       "    <tr>\n",
       "      <th>75%</th>\n",
       "      <td>781.000000</td>\n",
       "      <td>6.000000</td>\n",
       "      <td>4.000000</td>\n",
       "      <td>10.000000</td>\n",
       "      <td>1.054858</td>\n",
       "      <td>1523.000000</td>\n",
       "      <td>11.000000</td>\n",
       "      <td>0.943195</td>\n",
       "      <td>1.000000</td>\n",
       "    </tr>\n",
       "    <tr>\n",
       "      <th>max</th>\n",
       "      <td>1891.000000</td>\n",
       "      <td>6.000000</td>\n",
       "      <td>6.000000</td>\n",
       "      <td>11.000000</td>\n",
       "      <td>3.835320</td>\n",
       "      <td>3569.000000</td>\n",
       "      <td>12.000000</td>\n",
       "      <td>1.804273</td>\n",
       "      <td>1.000000</td>\n",
       "    </tr>\n",
       "  </tbody>\n",
       "</table>\n",
       "</div>"
      ],
      "text/plain": [
       "       Cap_Diameter     Cap_Shape  Gill_Attachment    Gill_Color  \\\n",
       "count  54035.000000  54035.000000     54035.000000  54035.000000   \n",
       "mean     567.257204      4.000315         2.142056      7.329509   \n",
       "std      359.883763      2.160505         2.228821      3.200266   \n",
       "min        0.000000      0.000000         0.000000      0.000000   \n",
       "25%      289.000000      2.000000         0.000000      5.000000   \n",
       "50%      525.000000      5.000000         1.000000      8.000000   \n",
       "75%      781.000000      6.000000         4.000000     10.000000   \n",
       "max     1891.000000      6.000000         6.000000     11.000000   \n",
       "\n",
       "        Stem_Height    Stem_Width    Stem_Color        Season         Class  \n",
       "count  54035.000000  54035.000000  54035.000000  54035.000000  54035.000000  \n",
       "mean       0.759110   1051.081299      8.418062      0.952163      0.549181  \n",
       "std        0.650969    782.056076      3.262078      0.305594      0.497580  \n",
       "min        0.000426      0.000000      0.000000      0.027372      0.000000  \n",
       "25%        0.270997    421.000000      6.000000      0.888450      0.000000  \n",
       "50%        0.593295    923.000000     11.000000      0.943195      1.000000  \n",
       "75%        1.054858   1523.000000     11.000000      0.943195      1.000000  \n",
       "max        3.835320   3569.000000     12.000000      1.804273      1.000000  "
      ]
     },
     "execution_count": 30,
     "metadata": {},
     "output_type": "execute_result"
    }
   ],
   "source": [
    "df.describe()"
   ]
  },
  {
   "cell_type": "markdown",
   "id": "87e832dc",
   "metadata": {},
   "source": [
    "# Cleaning Dataset"
   ]
  },
  {
   "cell_type": "code",
   "execution_count": 6,
   "id": "4a65939a",
   "metadata": {},
   "outputs": [
    {
     "data": {
      "text/plain": [
       "303"
      ]
     },
     "execution_count": 6,
     "metadata": {},
     "output_type": "execute_result"
    }
   ],
   "source": [
    "#duplicated\n",
    "df.duplicated().sum()"
   ]
  },
  {
   "cell_type": "code",
   "execution_count": 8,
   "id": "e0de20ee",
   "metadata": {},
   "outputs": [
    {
     "name": "stdout",
     "output_type": "stream",
     "text": [
      "Col name: Cap_Diameter\n",
      "Min: 0\n",
      "Max: 1891\n",
      "\n",
      "\n",
      "Col name: Cap_Shape\n",
      "Min: 0\n",
      "Max: 6\n",
      "\n",
      "\n",
      "Col name: Gill_Attachment\n",
      "Min: 0\n",
      "Max: 6\n",
      "\n",
      "\n",
      "Col name: Gill_Color\n",
      "Min: 0\n",
      "Max: 11\n",
      "\n",
      "\n",
      "Col name: Stem_Height\n",
      "Min: 0.0004256969608359\n",
      "Max: 3.8353196773222433\n",
      "\n",
      "\n",
      "Col name: Stem_Width\n",
      "Min: 0\n",
      "Max: 3569\n",
      "\n",
      "\n",
      "Col name: Stem_Color\n",
      "Min: 0\n",
      "Max: 12\n",
      "\n",
      "\n",
      "Col name: Season\n",
      "Min: 0.0273721330556057\n",
      "Max: 1.804272708628173\n",
      "\n",
      "\n"
     ]
    }
   ],
   "source": [
    "#Invalid values\n",
    "for col in df.columns[:-1]:\n",
    "    print(f'Col name: {col}\\nMin: {df[col].min()}\\nMax: {df[col].max()}\\n\\n')"
   ]
  },
  {
   "cell_type": "code",
   "execution_count": 9,
   "id": "2636963c",
   "metadata": {},
   "outputs": [
    {
     "data": {
      "text/plain": [
       "Cap_Diameter       0\n",
       "Cap_Shape          0\n",
       "Gill_Attachment    0\n",
       "Gill_Color         0\n",
       "Stem_Height        0\n",
       "Stem_Width         0\n",
       "Stem_Color         0\n",
       "Season             0\n",
       "Class              0\n",
       "dtype: int64"
      ]
     },
     "execution_count": 9,
     "metadata": {},
     "output_type": "execute_result"
    }
   ],
   "source": [
    "#missing\n",
    "df.isna().sum()"
   ]
  },
  {
   "cell_type": "markdown",
   "id": "1389ff3e",
   "metadata": {},
   "source": [
    "# Feature Ingineering"
   ]
  },
  {
   "cell_type": "code",
   "execution_count": 36,
   "id": "bac986a8",
   "metadata": {},
   "outputs": [
    {
     "data": {
      "text/html": [
       "<div>\n",
       "<style scoped>\n",
       "    .dataframe tbody tr th:only-of-type {\n",
       "        vertical-align: middle;\n",
       "    }\n",
       "\n",
       "    .dataframe tbody tr th {\n",
       "        vertical-align: top;\n",
       "    }\n",
       "\n",
       "    .dataframe thead th {\n",
       "        text-align: right;\n",
       "    }\n",
       "</style>\n",
       "<table border=\"1\" class=\"dataframe\">\n",
       "  <thead>\n",
       "    <tr style=\"text-align: right;\">\n",
       "      <th></th>\n",
       "      <th>Cap_Diameter</th>\n",
       "      <th>Cap_Shape</th>\n",
       "      <th>Gill_Attachment</th>\n",
       "      <th>Gill_Color</th>\n",
       "      <th>Stem_Height</th>\n",
       "      <th>Stem_Width</th>\n",
       "      <th>Stem_Color</th>\n",
       "      <th>Season</th>\n",
       "      <th>Class</th>\n",
       "    </tr>\n",
       "  </thead>\n",
       "  <tbody>\n",
       "    <tr>\n",
       "      <th>Cap_Diameter</th>\n",
       "      <td>1.000000</td>\n",
       "      <td>0.204011</td>\n",
       "      <td>0.200481</td>\n",
       "      <td>0.186377</td>\n",
       "      <td>0.135652</td>\n",
       "      <td>0.828469</td>\n",
       "      <td>0.121856</td>\n",
       "      <td>0.113334</td>\n",
       "      <td>-0.165676</td>\n",
       "    </tr>\n",
       "    <tr>\n",
       "      <th>Cap_Shape</th>\n",
       "      <td>0.204011</td>\n",
       "      <td>1.000000</td>\n",
       "      <td>0.043066</td>\n",
       "      <td>0.131387</td>\n",
       "      <td>-0.010393</td>\n",
       "      <td>0.222494</td>\n",
       "      <td>0.029035</td>\n",
       "      <td>0.055442</td>\n",
       "      <td>-0.133338</td>\n",
       "    </tr>\n",
       "    <tr>\n",
       "      <th>Gill_Attachment</th>\n",
       "      <td>0.200481</td>\n",
       "      <td>0.043066</td>\n",
       "      <td>1.000000</td>\n",
       "      <td>0.100276</td>\n",
       "      <td>-0.075284</td>\n",
       "      <td>0.245300</td>\n",
       "      <td>0.020073</td>\n",
       "      <td>-0.040315</td>\n",
       "      <td>-0.052541</td>\n",
       "    </tr>\n",
       "    <tr>\n",
       "      <th>Gill_Color</th>\n",
       "      <td>0.186377</td>\n",
       "      <td>0.131387</td>\n",
       "      <td>0.100276</td>\n",
       "      <td>1.000000</td>\n",
       "      <td>0.015057</td>\n",
       "      <td>0.110283</td>\n",
       "      <td>0.186090</td>\n",
       "      <td>0.059965</td>\n",
       "      <td>-0.063947</td>\n",
       "    </tr>\n",
       "    <tr>\n",
       "      <th>Stem_Height</th>\n",
       "      <td>0.135652</td>\n",
       "      <td>-0.010393</td>\n",
       "      <td>-0.075284</td>\n",
       "      <td>0.015057</td>\n",
       "      <td>1.000000</td>\n",
       "      <td>0.098095</td>\n",
       "      <td>0.002624</td>\n",
       "      <td>-0.000292</td>\n",
       "      <td>0.183354</td>\n",
       "    </tr>\n",
       "    <tr>\n",
       "      <th>Stem_Width</th>\n",
       "      <td>0.828469</td>\n",
       "      <td>0.222494</td>\n",
       "      <td>0.245300</td>\n",
       "      <td>0.110283</td>\n",
       "      <td>0.098095</td>\n",
       "      <td>1.000000</td>\n",
       "      <td>0.157394</td>\n",
       "      <td>0.040679</td>\n",
       "      <td>-0.182856</td>\n",
       "    </tr>\n",
       "    <tr>\n",
       "      <th>Stem_Color</th>\n",
       "      <td>0.121856</td>\n",
       "      <td>0.029035</td>\n",
       "      <td>0.020073</td>\n",
       "      <td>0.186090</td>\n",
       "      <td>0.002624</td>\n",
       "      <td>0.157394</td>\n",
       "      <td>1.000000</td>\n",
       "      <td>0.010750</td>\n",
       "      <td>-0.128339</td>\n",
       "    </tr>\n",
       "    <tr>\n",
       "      <th>Season</th>\n",
       "      <td>0.113334</td>\n",
       "      <td>0.055442</td>\n",
       "      <td>-0.040315</td>\n",
       "      <td>0.059965</td>\n",
       "      <td>-0.000292</td>\n",
       "      <td>0.040679</td>\n",
       "      <td>0.010750</td>\n",
       "      <td>1.000000</td>\n",
       "      <td>-0.082919</td>\n",
       "    </tr>\n",
       "    <tr>\n",
       "      <th>Class</th>\n",
       "      <td>-0.165676</td>\n",
       "      <td>-0.133338</td>\n",
       "      <td>-0.052541</td>\n",
       "      <td>-0.063947</td>\n",
       "      <td>0.183354</td>\n",
       "      <td>-0.182856</td>\n",
       "      <td>-0.128339</td>\n",
       "      <td>-0.082919</td>\n",
       "      <td>1.000000</td>\n",
       "    </tr>\n",
       "  </tbody>\n",
       "</table>\n",
       "</div>"
      ],
      "text/plain": [
       "                 Cap_Diameter  Cap_Shape  Gill_Attachment  Gill_Color  \\\n",
       "Cap_Diameter         1.000000   0.204011         0.200481    0.186377   \n",
       "Cap_Shape            0.204011   1.000000         0.043066    0.131387   \n",
       "Gill_Attachment      0.200481   0.043066         1.000000    0.100276   \n",
       "Gill_Color           0.186377   0.131387         0.100276    1.000000   \n",
       "Stem_Height          0.135652  -0.010393        -0.075284    0.015057   \n",
       "Stem_Width           0.828469   0.222494         0.245300    0.110283   \n",
       "Stem_Color           0.121856   0.029035         0.020073    0.186090   \n",
       "Season               0.113334   0.055442        -0.040315    0.059965   \n",
       "Class               -0.165676  -0.133338        -0.052541   -0.063947   \n",
       "\n",
       "                 Stem_Height  Stem_Width  Stem_Color    Season     Class  \n",
       "Cap_Diameter        0.135652    0.828469    0.121856  0.113334 -0.165676  \n",
       "Cap_Shape          -0.010393    0.222494    0.029035  0.055442 -0.133338  \n",
       "Gill_Attachment    -0.075284    0.245300    0.020073 -0.040315 -0.052541  \n",
       "Gill_Color          0.015057    0.110283    0.186090  0.059965 -0.063947  \n",
       "Stem_Height         1.000000    0.098095    0.002624 -0.000292  0.183354  \n",
       "Stem_Width          0.098095    1.000000    0.157394  0.040679 -0.182856  \n",
       "Stem_Color          0.002624    0.157394    1.000000  0.010750 -0.128339  \n",
       "Season             -0.000292    0.040679    0.010750  1.000000 -0.082919  \n",
       "Class               0.183354   -0.182856   -0.128339 -0.082919  1.000000  "
      ]
     },
     "execution_count": 36,
     "metadata": {},
     "output_type": "execute_result"
    }
   ],
   "source": [
    "df.corr()"
   ]
  },
  {
   "cell_type": "code",
   "execution_count": 35,
   "id": "3aa2e2e6",
   "metadata": {},
   "outputs": [
    {
     "data": {
      "text/plain": [
       "<Axes: >"
      ]
     },
     "execution_count": 35,
     "metadata": {},
     "output_type": "execute_result"
    },
    {
     "data": {
      "image/png": "[encoded data removed]",
      "text/plain": [
       "<Figure size 640x480 with 2 Axes>"
      ]
     },
     "metadata": {},
     "output_type": "display_data"
    }
   ],
   "source": [
    "sns.heatmap(data=df.corr(),annot=True)"
   ]
  },
  {
   "cell_type": "markdown",
   "id": "878fc30d",
   "metadata": {},
   "source": [
    "# ML"
   ]
  },
  {
   "cell_type": "code",
   "execution_count": 6,
   "id": "82ba1405",
   "metadata": {},
   "outputs": [],
   "source": [
    "X= df.drop('Class',axis=1)\n",
    "y= df.Class"
   ]
  },
  {
   "cell_type": "markdown",
   "id": "e2475e92",
   "metadata": {},
   "source": [
    "### XGBs"
   ]
  },
  {
   "cell_type": "code",
   "execution_count": 8,
   "id": "8a5b9ca3",
   "metadata": {},
   "outputs": [
    {
     "name": "stdout",
     "output_type": "stream",
     "text": [
      "100%|██████████| 100/100 [00:42<00:00,  2.34trial/s, best loss: -0.9905692152239812]\n",
      "\n",
      "Accuracy: 0.9883408901637827\n",
      "Precision: 0.9873991935483871\n",
      "Recall: 0.9913967611336032\n",
      "F1: 0.9893939393939395\n"
     ]
    }
   ],
   "source": [
    "#classification\n",
    "xgbs_c = mlt.XGBs(X,y)\n",
    "xgbs_c.xgbs('c',iter=100)"
   ]
  },
  {
   "cell_type": "code",
   "execution_count": 61,
   "id": "7fad674b",
   "metadata": {},
   "outputs": [
    {
     "name": "stdout",
     "output_type": "stream",
     "text": [
      "100%|██████████| 100/100 [01:21<00:00,  1.23trial/s, best loss: 0.027853553941336016]\n",
      "\n",
      "MSE: 0.011315340204314907\n",
      "MAE: 0.025775736667963085\n",
      "R2: 0.9543081328154202\n"
     ]
    }
   ],
   "source": [
    "#regression\n",
    "xgbs_r = mlt.XGBs(X,y)\n",
    "xgbs_r.xgbs('r',iter=100)"
   ]
  },
  {
   "cell_type": "markdown",
   "id": "cb8a0f24",
   "metadata": {},
   "source": [
    "### Svms"
   ]
  },
  {
   "cell_type": "code",
   "execution_count": 71,
   "id": "c8bf9760",
   "metadata": {},
   "outputs": [
    {
     "name": "stdout",
     "output_type": "stream",
     "text": [
      "100%|██████████| 50/50 [03:05<00:00,  3.70s/trial, best loss: -0.6888120324941687]\n",
      "\n",
      "Accuracy: 0.6412510409919496\n",
      "Precision: 0.6580854015723755\n",
      "Recall: 0.7201417004048583\n",
      "F1: 0.6877164720096657\n"
     ]
    }
   ],
   "source": [
    "#clasification\n",
    "svms_c = mlt.Svms(X,y)\n",
    "svms_c.lsvms('c')"
   ]
  },
  {
   "cell_type": "markdown",
   "id": "e36dfd54",
   "metadata": {},
   "source": [
    "### TF"
   ]
  },
  {
   "cell_type": "code",
   "execution_count": 1,
   "id": "0200f0e7",
   "metadata": {},
   "outputs": [],
   "source": [
    "from sklearn.model_selection import train_test_split\n",
    "from tensorflow import keras"
   ]
  },
  {
   "cell_type": "code",
   "execution_count": 9,
   "id": "96db91bb",
   "metadata": {},
   "outputs": [],
   "source": [
    "X_train,X_test,y_train,y_test = train_test_split(X,y,test_size=0.2)"
   ]
  },
  {
   "cell_type": "code",
   "execution_count": 10,
   "id": "450eeaae",
   "metadata": {},
   "outputs": [
    {
     "data": {
      "text/plain": [
       "(43228, 8)"
      ]
     },
     "execution_count": 10,
     "metadata": {},
     "output_type": "execute_result"
    }
   ],
   "source": [
    "X_train.shape"
   ]
  },
  {
   "cell_type": "code",
   "execution_count": 20,
   "id": "88a72b21",
   "metadata": {},
   "outputs": [
    {
     "data": {
      "text/plain": [
       "(43228,)"
      ]
     },
     "execution_count": 20,
     "metadata": {},
     "output_type": "execute_result"
    }
   ],
   "source": [
    "y_train.shape"
   ]
  },
  {
   "cell_type": "code",
   "execution_count": 56,
   "id": "dd0b7f13",
   "metadata": {},
   "outputs": [
    {
     "name": "stdout",
     "output_type": "stream",
     "text": [
      "Epoch 1/20\n"
     ]
    },
    {
     "name": "stderr",
     "output_type": "stream",
     "text": [
      "C:\\Users\\Mina\\anaconda3\\Lib\\site-packages\\keras\\src\\layers\\core\\dense.py:87: UserWarning: Do not pass an `input_shape`/`input_dim` argument to a layer. When using Sequential models, prefer using an `Input(shape)` object as the first layer in the model instead.\n",
      "  super().__init__(activity_regularizer=activity_regularizer, **kwargs)\n"
     ]
    },
    {
     "name": "stdout",
     "output_type": "stream",
     "text": [
      "\u001b[1m1351/1351\u001b[0m \u001b[32m━━━━━━━━━━━━━━━━━━━━\u001b[0m\u001b[37m\u001b[0m \u001b[1m3s\u001b[0m 1ms/step - accuracy: 0.5587 - loss: 2.0312\n",
      "Epoch 2/20\n",
      "\u001b[1m1351/1351\u001b[0m \u001b[32m━━━━━━━━━━━━━━━━━━━━\u001b[0m\u001b[37m\u001b[0m \u001b[1m2s\u001b[0m 1ms/step - accuracy: 0.5935 - loss: 0.5490\n",
      "Epoch 3/20\n",
      "\u001b[1m1351/1351\u001b[0m \u001b[32m━━━━━━━━━━━━━━━━━━━━\u001b[0m\u001b[37m\u001b[0m \u001b[1m2s\u001b[0m 1ms/step - accuracy: 0.6013 - loss: 0.4730\n",
      "Epoch 4/20\n",
      "\u001b[1m1351/1351\u001b[0m \u001b[32m━━━━━━━━━━━━━━━━━━━━\u001b[0m\u001b[37m\u001b[0m \u001b[1m2s\u001b[0m 1ms/step - accuracy: 0.6060 - loss: 0.4497\n",
      "Epoch 5/20\n",
      "\u001b[1m1351/1351\u001b[0m \u001b[32m━━━━━━━━━━━━━━━━━━━━\u001b[0m\u001b[37m\u001b[0m \u001b[1m2s\u001b[0m 1ms/step - accuracy: 0.6180 - loss: 0.4035\n",
      "Epoch 6/20\n",
      "\u001b[1m1351/1351\u001b[0m \u001b[32m━━━━━━━━━━━━━━━━━━━━\u001b[0m\u001b[37m\u001b[0m \u001b[1m2s\u001b[0m 2ms/step - accuracy: 0.6243 - loss: 0.3712\n",
      "Epoch 7/20\n",
      "\u001b[1m1351/1351\u001b[0m \u001b[32m━━━━━━━━━━━━━━━━━━━━\u001b[0m\u001b[37m\u001b[0m \u001b[1m2s\u001b[0m 1ms/step - accuracy: 0.6185 - loss: 0.4198\n",
      "Epoch 8/20\n",
      "\u001b[1m1351/1351\u001b[0m \u001b[32m━━━━━━━━━━━━━━━━━━━━\u001b[0m\u001b[37m\u001b[0m \u001b[1m2s\u001b[0m 1ms/step - accuracy: 0.6328 - loss: 0.4251\n",
      "Epoch 9/20\n",
      "\u001b[1m1351/1351\u001b[0m \u001b[32m━━━━━━━━━━━━━━━━━━━━\u001b[0m\u001b[37m\u001b[0m \u001b[1m2s\u001b[0m 1ms/step - accuracy: 0.6289 - loss: 0.4252\n",
      "Epoch 10/20\n",
      "\u001b[1m1351/1351\u001b[0m \u001b[32m━━━━━━━━━━━━━━━━━━━━\u001b[0m\u001b[37m\u001b[0m \u001b[1m2s\u001b[0m 1ms/step - accuracy: 0.6280 - loss: 0.5160\n",
      "Epoch 11/20\n",
      "\u001b[1m1351/1351\u001b[0m \u001b[32m━━━━━━━━━━━━━━━━━━━━\u001b[0m\u001b[37m\u001b[0m \u001b[1m2s\u001b[0m 1ms/step - accuracy: 0.6487 - loss: 0.3203\n",
      "Epoch 12/20\n",
      "\u001b[1m1351/1351\u001b[0m \u001b[32m━━━━━━━━━━━━━━━━━━━━\u001b[0m\u001b[37m\u001b[0m \u001b[1m2s\u001b[0m 1ms/step - accuracy: 0.6404 - loss: 0.3938\n",
      "Epoch 13/20\n",
      "\u001b[1m1351/1351\u001b[0m \u001b[32m━━━━━━━━━━━━━━━━━━━━\u001b[0m\u001b[37m\u001b[0m \u001b[1m2s\u001b[0m 1ms/step - accuracy: 0.6409 - loss: 0.3849\n",
      "Epoch 14/20\n",
      "\u001b[1m1351/1351\u001b[0m \u001b[32m━━━━━━━━━━━━━━━━━━━━\u001b[0m\u001b[37m\u001b[0m \u001b[1m2s\u001b[0m 1ms/step - accuracy: 0.6421 - loss: 0.3574\n",
      "Epoch 15/20\n",
      "\u001b[1m1351/1351\u001b[0m \u001b[32m━━━━━━━━━━━━━━━━━━━━\u001b[0m\u001b[37m\u001b[0m \u001b[1m2s\u001b[0m 2ms/step - accuracy: 0.6502 - loss: 0.3712\n",
      "Epoch 16/20\n",
      "\u001b[1m1351/1351\u001b[0m \u001b[32m━━━━━━━━━━━━━━━━━━━━\u001b[0m\u001b[37m\u001b[0m \u001b[1m2s\u001b[0m 1ms/step - accuracy: 0.6505 - loss: 0.2995\n",
      "Epoch 17/20\n",
      "\u001b[1m1351/1351\u001b[0m \u001b[32m━━━━━━━━━━━━━━━━━━━━\u001b[0m\u001b[37m\u001b[0m \u001b[1m2s\u001b[0m 1ms/step - accuracy: 0.6489 - loss: 0.4002\n",
      "Epoch 18/20\n",
      "\u001b[1m1351/1351\u001b[0m \u001b[32m━━━━━━━━━━━━━━━━━━━━\u001b[0m\u001b[37m\u001b[0m \u001b[1m2s\u001b[0m 1ms/step - accuracy: 0.6476 - loss: 0.3245\n",
      "Epoch 19/20\n",
      "\u001b[1m1351/1351\u001b[0m \u001b[32m━━━━━━━━━━━━━━━━━━━━\u001b[0m\u001b[37m\u001b[0m \u001b[1m2s\u001b[0m 1ms/step - accuracy: 0.6587 - loss: 0.3066\n",
      "Epoch 20/20\n",
      "\u001b[1m1351/1351\u001b[0m \u001b[32m━━━━━━━━━━━━━━━━━━━━\u001b[0m\u001b[37m\u001b[0m \u001b[1m2s\u001b[0m 1ms/step - accuracy: 0.6536 - loss: 0.3431\n"
     ]
    },
    {
     "data": {
      "text/plain": [
       "<keras.src.callbacks.history.History at 0x29db6790490>"
      ]
     },
     "execution_count": 56,
     "metadata": {},
     "output_type": "execute_result"
    }
   ],
   "source": [
    "tf_model= keras.Sequential(layers=[\n",
    "    keras.layers.Dense(100,input_shape=(8,),activation='relu'),\n",
    "    keras.layers.Dense(1,activation='sigmoid')\n",
    "])\n",
    "\n",
    "tf_model.compile(metrics=['accuracy'],\n",
    "                loss='binary_focal_crossentropy',\n",
    "                optimizer='adam')\n",
    "\n",
    "tf_model.fit(X_train,y_train,epochs=20)"
   ]
  }
 ],
 "metadata": {
  "kernelspec": {
   "display_name": "Python 3 (ipykernel)",
   "language": "python",
   "name": "python3"
  },
  "language_info": {
   "codemirror_mode": {
    "name": "ipython",
    "version": 3
   },
   "file_extension": ".py",
   "mimetype": "text/x-python",
   "name": "python",
   "nbconvert_exporter": "python",
   "pygments_lexer": "ipython3",
   "version": "3.11.5"
  }
 },
 "nbformat": 4,
 "nbformat_minor": 5
}
