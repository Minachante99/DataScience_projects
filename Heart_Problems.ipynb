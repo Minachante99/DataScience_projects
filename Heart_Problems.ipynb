{
 "cells": [
  {
   "cell_type": "markdown",
   "id": "f4ccc912",
   "metadata": {},
   "source": [
    "## Libraries"
   ]
  },
  {
   "cell_type": "code",
   "execution_count": 1,
   "id": "f7178fc5",
   "metadata": {},
   "outputs": [
    {
     "name": "stderr",
     "output_type": "stream",
     "text": [
      "C:\\Users\\Mina\\anaconda3\\Lib\\site-packages\\pandas\\core\\arrays\\masked.py:60: UserWarning: Pandas requires version '1.3.6' or newer of 'bottleneck' (version '1.3.5' currently installed).\n",
      "  from pandas.core import (\n"
     ]
    }
   ],
   "source": [
    "import numpy as np\n",
    "import pandas as pd \n",
    "import matplotlib.pyplot as plt \n",
    "import seaborn as sns"
   ]
  },
  {
   "cell_type": "code",
   "execution_count": 2,
   "id": "4ea0d293",
   "metadata": {},
   "outputs": [],
   "source": [
    "from sklearn.model_selection import train_test_split, validation_curve,GridSearchCV,RandomizedSearchCV\n",
    "from sklearn import metrics\n",
    "from sklearn.compose import ColumnTransformer\n",
    "from sklearn.pipeline import Pipeline\n",
    "from sklearn.preprocessing import OneHotEncoder\n",
    "from sklearn.preprocessing import StandardScaler"
   ]
  },
  {
   "cell_type": "markdown",
   "id": "9f392eba",
   "metadata": {},
   "source": [
    "### Loading DF"
   ]
  },
  {
   "cell_type": "code",
   "execution_count": 4,
   "id": "f18a861f",
   "metadata": {
    "scrolled": false
   },
   "outputs": [
    {
     "data": {
      "text/html": [
       "<div>\n",
       "<style scoped>\n",
       "    .dataframe tbody tr th:only-of-type {\n",
       "        vertical-align: middle;\n",
       "    }\n",
       "\n",
       "    .dataframe tbody tr th {\n",
       "        vertical-align: top;\n",
       "    }\n",
       "\n",
       "    .dataframe thead th {\n",
       "        text-align: right;\n",
       "    }\n",
       "</style>\n",
       "<table border=\"1\" class=\"dataframe\">\n",
       "  <thead>\n",
       "    <tr style=\"text-align: right;\">\n",
       "      <th></th>\n",
       "      <th>Age</th>\n",
       "      <th>Sex</th>\n",
       "      <th>ChestPainType</th>\n",
       "      <th>RestingBP</th>\n",
       "      <th>Cholesterol</th>\n",
       "      <th>FastingBS</th>\n",
       "      <th>RestingECG</th>\n",
       "      <th>MaxHR</th>\n",
       "      <th>ExerciseAngina</th>\n",
       "      <th>Oldpeak</th>\n",
       "      <th>ST_Slope</th>\n",
       "      <th>HeartDisease</th>\n",
       "    </tr>\n",
       "  </thead>\n",
       "  <tbody>\n",
       "    <tr>\n",
       "      <th>0</th>\n",
       "      <td>40</td>\n",
       "      <td>M</td>\n",
       "      <td>ATA</td>\n",
       "      <td>140</td>\n",
       "      <td>289</td>\n",
       "      <td>0</td>\n",
       "      <td>Normal</td>\n",
       "      <td>172</td>\n",
       "      <td>N</td>\n",
       "      <td>0.0</td>\n",
       "      <td>Up</td>\n",
       "      <td>0</td>\n",
       "    </tr>\n",
       "    <tr>\n",
       "      <th>1</th>\n",
       "      <td>49</td>\n",
       "      <td>F</td>\n",
       "      <td>NAP</td>\n",
       "      <td>160</td>\n",
       "      <td>180</td>\n",
       "      <td>0</td>\n",
       "      <td>Normal</td>\n",
       "      <td>156</td>\n",
       "      <td>N</td>\n",
       "      <td>1.0</td>\n",
       "      <td>Flat</td>\n",
       "      <td>1</td>\n",
       "    </tr>\n",
       "    <tr>\n",
       "      <th>2</th>\n",
       "      <td>37</td>\n",
       "      <td>M</td>\n",
       "      <td>ATA</td>\n",
       "      <td>130</td>\n",
       "      <td>283</td>\n",
       "      <td>0</td>\n",
       "      <td>ST</td>\n",
       "      <td>98</td>\n",
       "      <td>N</td>\n",
       "      <td>0.0</td>\n",
       "      <td>Up</td>\n",
       "      <td>0</td>\n",
       "    </tr>\n",
       "    <tr>\n",
       "      <th>3</th>\n",
       "      <td>48</td>\n",
       "      <td>F</td>\n",
       "      <td>ASY</td>\n",
       "      <td>138</td>\n",
       "      <td>214</td>\n",
       "      <td>0</td>\n",
       "      <td>Normal</td>\n",
       "      <td>108</td>\n",
       "      <td>Y</td>\n",
       "      <td>1.5</td>\n",
       "      <td>Flat</td>\n",
       "      <td>1</td>\n",
       "    </tr>\n",
       "    <tr>\n",
       "      <th>4</th>\n",
       "      <td>54</td>\n",
       "      <td>M</td>\n",
       "      <td>NAP</td>\n",
       "      <td>150</td>\n",
       "      <td>195</td>\n",
       "      <td>0</td>\n",
       "      <td>Normal</td>\n",
       "      <td>122</td>\n",
       "      <td>N</td>\n",
       "      <td>0.0</td>\n",
       "      <td>Up</td>\n",
       "      <td>0</td>\n",
       "    </tr>\n",
       "    <tr>\n",
       "      <th>...</th>\n",
       "      <td>...</td>\n",
       "      <td>...</td>\n",
       "      <td>...</td>\n",
       "      <td>...</td>\n",
       "      <td>...</td>\n",
       "      <td>...</td>\n",
       "      <td>...</td>\n",
       "      <td>...</td>\n",
       "      <td>...</td>\n",
       "      <td>...</td>\n",
       "      <td>...</td>\n",
       "      <td>...</td>\n",
       "    </tr>\n",
       "    <tr>\n",
       "      <th>913</th>\n",
       "      <td>45</td>\n",
       "      <td>M</td>\n",
       "      <td>TA</td>\n",
       "      <td>110</td>\n",
       "      <td>264</td>\n",
       "      <td>0</td>\n",
       "      <td>Normal</td>\n",
       "      <td>132</td>\n",
       "      <td>N</td>\n",
       "      <td>1.2</td>\n",
       "      <td>Flat</td>\n",
       "      <td>1</td>\n",
       "    </tr>\n",
       "    <tr>\n",
       "      <th>914</th>\n",
       "      <td>68</td>\n",
       "      <td>M</td>\n",
       "      <td>ASY</td>\n",
       "      <td>144</td>\n",
       "      <td>193</td>\n",
       "      <td>1</td>\n",
       "      <td>Normal</td>\n",
       "      <td>141</td>\n",
       "      <td>N</td>\n",
       "      <td>3.4</td>\n",
       "      <td>Flat</td>\n",
       "      <td>1</td>\n",
       "    </tr>\n",
       "    <tr>\n",
       "      <th>915</th>\n",
       "      <td>57</td>\n",
       "      <td>M</td>\n",
       "      <td>ASY</td>\n",
       "      <td>130</td>\n",
       "      <td>131</td>\n",
       "      <td>0</td>\n",
       "      <td>Normal</td>\n",
       "      <td>115</td>\n",
       "      <td>Y</td>\n",
       "      <td>1.2</td>\n",
       "      <td>Flat</td>\n",
       "      <td>1</td>\n",
       "    </tr>\n",
       "    <tr>\n",
       "      <th>916</th>\n",
       "      <td>57</td>\n",
       "      <td>F</td>\n",
       "      <td>ATA</td>\n",
       "      <td>130</td>\n",
       "      <td>236</td>\n",
       "      <td>0</td>\n",
       "      <td>LVH</td>\n",
       "      <td>174</td>\n",
       "      <td>N</td>\n",
       "      <td>0.0</td>\n",
       "      <td>Flat</td>\n",
       "      <td>1</td>\n",
       "    </tr>\n",
       "    <tr>\n",
       "      <th>917</th>\n",
       "      <td>38</td>\n",
       "      <td>M</td>\n",
       "      <td>NAP</td>\n",
       "      <td>138</td>\n",
       "      <td>175</td>\n",
       "      <td>0</td>\n",
       "      <td>Normal</td>\n",
       "      <td>173</td>\n",
       "      <td>N</td>\n",
       "      <td>0.0</td>\n",
       "      <td>Up</td>\n",
       "      <td>0</td>\n",
       "    </tr>\n",
       "  </tbody>\n",
       "</table>\n",
       "<p>918 rows × 12 columns</p>\n",
       "</div>"
      ],
      "text/plain": [
       "     Age Sex ChestPainType  RestingBP  Cholesterol  FastingBS RestingECG  \\\n",
       "0     40   M           ATA        140          289          0     Normal   \n",
       "1     49   F           NAP        160          180          0     Normal   \n",
       "2     37   M           ATA        130          283          0         ST   \n",
       "3     48   F           ASY        138          214          0     Normal   \n",
       "4     54   M           NAP        150          195          0     Normal   \n",
       "..   ...  ..           ...        ...          ...        ...        ...   \n",
       "913   45   M            TA        110          264          0     Normal   \n",
       "914   68   M           ASY        144          193          1     Normal   \n",
       "915   57   M           ASY        130          131          0     Normal   \n",
       "916   57   F           ATA        130          236          0        LVH   \n",
       "917   38   M           NAP        138          175          0     Normal   \n",
       "\n",
       "     MaxHR ExerciseAngina  Oldpeak ST_Slope  HeartDisease  \n",
       "0      172              N      0.0       Up             0  \n",
       "1      156              N      1.0     Flat             1  \n",
       "2       98              N      0.0       Up             0  \n",
       "3      108              Y      1.5     Flat             1  \n",
       "4      122              N      0.0       Up             0  \n",
       "..     ...            ...      ...      ...           ...  \n",
       "913    132              N      1.2     Flat             1  \n",
       "914    141              N      3.4     Flat             1  \n",
       "915    115              Y      1.2     Flat             1  \n",
       "916    174              N      0.0     Flat             1  \n",
       "917    173              N      0.0       Up             0  \n",
       "\n",
       "[918 rows x 12 columns]"
      ]
     },
     "execution_count": 4,
     "metadata": {},
     "output_type": "execute_result"
    }
   ],
   "source": [
    "df = pd.read_csv(r'd:\\Programacion\\Datasets\\heart.csv')\n",
    "df"
   ]
  },
  {
   "cell_type": "markdown",
   "id": "bcfded75",
   "metadata": {},
   "source": [
    "### Invalid Values"
   ]
  },
  {
   "cell_type": "code",
   "execution_count": 6,
   "id": "33883672",
   "metadata": {},
   "outputs": [
    {
     "name": "stdout",
     "output_type": "stream",
     "text": [
      "M    725\n",
      "F    193\n",
      "Name: Sex, dtype: int64\n",
      "\n",
      "ASY    496\n",
      "NAP    203\n",
      "ATA    173\n",
      "TA      46\n",
      "Name: ChestPainType, dtype: int64\n",
      "\n",
      "Normal    552\n",
      "LVH       188\n",
      "ST        178\n",
      "Name: RestingECG, dtype: int64\n",
      "\n",
      "N    547\n",
      "Y    371\n",
      "Name: ExerciseAngina, dtype: int64\n",
      "\n",
      "Flat    460\n",
      "Up      395\n",
      "Down     63\n",
      "Name: ST_Slope, dtype: int64\n",
      "\n"
     ]
    }
   ],
   "source": [
    "for column in df.select_dtypes(include='object').columns:\n",
    "    print(df[column].value_counts(),end='\\n\\n')"
   ]
  },
  {
   "cell_type": "markdown",
   "id": "bf803f56",
   "metadata": {},
   "source": [
    "### Missing Values"
   ]
  },
  {
   "cell_type": "code",
   "execution_count": 7,
   "id": "1fe1be6a",
   "metadata": {},
   "outputs": [
    {
     "data": {
      "text/plain": [
       "Age               0\n",
       "Sex               0\n",
       "ChestPainType     0\n",
       "RestingBP         0\n",
       "Cholesterol       0\n",
       "FastingBS         0\n",
       "RestingECG        0\n",
       "MaxHR             0\n",
       "ExerciseAngina    0\n",
       "Oldpeak           0\n",
       "ST_Slope          0\n",
       "HeartDisease      0\n",
       "dtype: int64"
      ]
     },
     "execution_count": 7,
     "metadata": {},
     "output_type": "execute_result"
    }
   ],
   "source": [
    "df.isna().sum()"
   ]
  },
  {
   "cell_type": "markdown",
   "id": "f4523c3e",
   "metadata": {},
   "source": [
    "# EDA"
   ]
  },
  {
   "cell_type": "markdown",
   "id": "bf248567",
   "metadata": {},
   "source": [
    "## Age"
   ]
  },
  {
   "cell_type": "code",
   "execution_count": 8,
   "id": "85c35239",
   "metadata": {
    "scrolled": false
   },
   "outputs": [
    {
     "data": {
      "text/plain": [
       "Text(0.5, 0, 'Problemas del corazon')"
      ]
     },
     "execution_count": 8,
     "metadata": {},
     "output_type": "execute_result"
    },
    {
     "data": {
      "image/png": "[encoded data removed]",
      "text/plain": [
       "<Figure size 640x480 with 1 Axes>"
      ]
     },
     "metadata": {},
     "output_type": "display_data"
    }
   ],
   "source": [
    "sns.countplot(x = df.HeartDisease)\n",
    "plt.ylabel('Conteo')\n",
    "plt.xlabel('Problemas del corazon')"
   ]
  },
  {
   "cell_type": "code",
   "execution_count": 9,
   "id": "62873077",
   "metadata": {},
   "outputs": [
    {
     "name": "stdout",
     "output_type": "stream",
     "text": [
      "Min age: 28\n",
      "Min age with heart disease: 31\n",
      "Max age: 77\n",
      "Edad promedio: 53.510893246187365\n"
     ]
    }
   ],
   "source": [
    "print(f'Min age: {df.Age.min()}\\nMin age with heart disease: {df.loc[df.HeartDisease==1,\"Age\"].min()}\\nMax age: {df.Age.max()}\\nEdad promedio: {df.Age.mean()}')"
   ]
  },
  {
   "cell_type": "code",
   "execution_count": 10,
   "id": "234de55e",
   "metadata": {},
   "outputs": [
    {
     "data": {
      "text/plain": [
       "Text(0, 0.5, 'Conteo')"
      ]
     },
     "execution_count": 10,
     "metadata": {},
     "output_type": "execute_result"
    },
    {
     "data": {
      "image/png": "[encoded data removed]",
      "text/plain": [
       "<Figure size 640x480 with 1 Axes>"
      ]
     },
     "metadata": {},
     "output_type": "display_data"
    }
   ],
   "source": [
    "plt.hist(data=df,x='Age')\n",
    "plt.title('Distribución de edad de los entrevistados')\n",
    "plt.xlabel('Edad')\n",
    "plt.ylabel('Conteo')\n",
    "#plt.grid()"
   ]
  },
  {
   "cell_type": "code",
   "execution_count": 11,
   "id": "b93c1eba",
   "metadata": {
    "scrolled": false
   },
   "outputs": [
    {
     "data": {
      "text/plain": [
       "Text(0, 0.5, 'Conteo')"
      ]
     },
     "execution_count": 11,
     "metadata": {},
     "output_type": "execute_result"
    },
    {
     "data": {
      "image/png": "[encoded data removed]",
      "text/plain": [
       "<Figure size 640x480 with 1 Axes>"
      ]
     },
     "metadata": {},
     "output_type": "display_data"
    }
   ],
   "source": [
    "plt.hist(df.loc[df.HeartDisease==1]['Age'],color='r')\n",
    "plt.title('Distribucion de edad con problemas del corazon')\n",
    "plt.xlabel('Edad')\n",
    "plt.ylabel('Conteo')"
   ]
  },
  {
   "cell_type": "markdown",
   "id": "815bea31",
   "metadata": {},
   "source": [
    "## Genre"
   ]
  },
  {
   "cell_type": "code",
   "execution_count": 12,
   "id": "a3df2b2f",
   "metadata": {
    "scrolled": false
   },
   "outputs": [
    {
     "data": {
      "text/plain": [
       "<Axes: title={'center': 'Problema del corazon por sexo'}, xlabel='Sexo', ylabel='Conteo'>"
      ]
     },
     "execution_count": 12,
     "metadata": {},
     "output_type": "execute_result"
    },
    {
     "data": {
      "image/png": "[encoded data removed]",
      "text/plain": [
       "<Figure size 640x480 with 1 Axes>"
      ]
     },
     "metadata": {},
     "output_type": "display_data"
    }
   ],
   "source": [
    "df.groupby('Sex')['HeartDisease'].value_counts().unstack().plot(kind='bar',\n",
    "                                                                title='Problema del corazon por sexo',\n",
    "                                                                ylabel='Conteo',\n",
    "                                                                xlabel='Sexo')                                                       "
   ]
  },
  {
   "cell_type": "markdown",
   "id": "1ed3181b",
   "metadata": {},
   "source": [
    "## Colesterol"
   ]
  },
  {
   "cell_type": "code",
   "execution_count": 5,
   "id": "947adb92",
   "metadata": {},
   "outputs": [],
   "source": [
    "labels=['Deseable','Casi Alto','Alto']\n",
    "bins=[0,200,240,float('inf')]\n",
    "df['ColesterolCategory'] = pd.cut(df.Cholesterol,bins=bins,labels=labels)"
   ]
  },
  {
   "cell_type": "code",
   "execution_count": 17,
   "id": "605126bb",
   "metadata": {
    "scrolled": false
   },
   "outputs": [
    {
     "data": {
      "text/plain": [
       "<Axes: title={'center': 'Agrupado por nivel de colesterol'}, xlabel='Problemas del Corazon', ylabel='Numero de personas'>"
      ]
     },
     "execution_count": 17,
     "metadata": {},
     "output_type": "execute_result"
    },
    {
     "data": {
      "image/png": "[encoded data removed]",
      "text/plain": [
       "<Figure size 640x480 with 1 Axes>"
      ]
     },
     "metadata": {},
     "output_type": "display_data"
    }
   ],
   "source": [
    "df.groupby('HeartDisease')['ColesterolCategory'].value_counts().unstack().plot(kind='bar',\n",
    "                                                                              title='Agrupado por nivel de colesterol',\n",
    "                                                                              xlabel='Problemas del Corazon',\n",
    "                                                                              ylabel='Numero de personas')"
   ]
  },
  {
   "cell_type": "markdown",
   "id": "72366348",
   "metadata": {},
   "source": [
    "# Featuring Engineer"
   ]
  },
  {
   "cell_type": "code",
   "execution_count": 18,
   "id": "5295f14f",
   "metadata": {
    "scrolled": true
   },
   "outputs": [
    {
     "name": "stderr",
     "output_type": "stream",
     "text": [
      "C:\\Users\\Usuario\\AppData\\Local\\Temp\\ipykernel_12244\\1134722465.py:1: FutureWarning: The default value of numeric_only in DataFrame.corr is deprecated. In a future version, it will default to False. Select only valid columns or specify the value of numeric_only to silence this warning.\n",
      "  df.corr()\n"
     ]
    },
    {
     "data": {
      "text/html": [
       "<div>\n",
       "<style scoped>\n",
       "    .dataframe tbody tr th:only-of-type {\n",
       "        vertical-align: middle;\n",
       "    }\n",
       "\n",
       "    .dataframe tbody tr th {\n",
       "        vertical-align: top;\n",
       "    }\n",
       "\n",
       "    .dataframe thead th {\n",
       "        text-align: right;\n",
       "    }\n",
       "</style>\n",
       "<table border=\"1\" class=\"dataframe\">\n",
       "  <thead>\n",
       "    <tr style=\"text-align: right;\">\n",
       "      <th></th>\n",
       "      <th>Age</th>\n",
       "      <th>RestingBP</th>\n",
       "      <th>Cholesterol</th>\n",
       "      <th>FastingBS</th>\n",
       "      <th>MaxHR</th>\n",
       "      <th>Oldpeak</th>\n",
       "      <th>HeartDisease</th>\n",
       "    </tr>\n",
       "  </thead>\n",
       "  <tbody>\n",
       "    <tr>\n",
       "      <th>Age</th>\n",
       "      <td>1.000000</td>\n",
       "      <td>0.254399</td>\n",
       "      <td>-0.095282</td>\n",
       "      <td>0.198039</td>\n",
       "      <td>-0.382045</td>\n",
       "      <td>0.258612</td>\n",
       "      <td>0.282039</td>\n",
       "    </tr>\n",
       "    <tr>\n",
       "      <th>RestingBP</th>\n",
       "      <td>0.254399</td>\n",
       "      <td>1.000000</td>\n",
       "      <td>0.100893</td>\n",
       "      <td>0.070193</td>\n",
       "      <td>-0.112135</td>\n",
       "      <td>0.164803</td>\n",
       "      <td>0.107589</td>\n",
       "    </tr>\n",
       "    <tr>\n",
       "      <th>Cholesterol</th>\n",
       "      <td>-0.095282</td>\n",
       "      <td>0.100893</td>\n",
       "      <td>1.000000</td>\n",
       "      <td>-0.260974</td>\n",
       "      <td>0.235792</td>\n",
       "      <td>0.050148</td>\n",
       "      <td>-0.232741</td>\n",
       "    </tr>\n",
       "    <tr>\n",
       "      <th>FastingBS</th>\n",
       "      <td>0.198039</td>\n",
       "      <td>0.070193</td>\n",
       "      <td>-0.260974</td>\n",
       "      <td>1.000000</td>\n",
       "      <td>-0.131438</td>\n",
       "      <td>0.052698</td>\n",
       "      <td>0.267291</td>\n",
       "    </tr>\n",
       "    <tr>\n",
       "      <th>MaxHR</th>\n",
       "      <td>-0.382045</td>\n",
       "      <td>-0.112135</td>\n",
       "      <td>0.235792</td>\n",
       "      <td>-0.131438</td>\n",
       "      <td>1.000000</td>\n",
       "      <td>-0.160691</td>\n",
       "      <td>-0.400421</td>\n",
       "    </tr>\n",
       "    <tr>\n",
       "      <th>Oldpeak</th>\n",
       "      <td>0.258612</td>\n",
       "      <td>0.164803</td>\n",
       "      <td>0.050148</td>\n",
       "      <td>0.052698</td>\n",
       "      <td>-0.160691</td>\n",
       "      <td>1.000000</td>\n",
       "      <td>0.403951</td>\n",
       "    </tr>\n",
       "    <tr>\n",
       "      <th>HeartDisease</th>\n",
       "      <td>0.282039</td>\n",
       "      <td>0.107589</td>\n",
       "      <td>-0.232741</td>\n",
       "      <td>0.267291</td>\n",
       "      <td>-0.400421</td>\n",
       "      <td>0.403951</td>\n",
       "      <td>1.000000</td>\n",
       "    </tr>\n",
       "  </tbody>\n",
       "</table>\n",
       "</div>"
      ],
      "text/plain": [
       "                   Age  RestingBP  Cholesterol  FastingBS     MaxHR   Oldpeak  \\\n",
       "Age           1.000000   0.254399    -0.095282   0.198039 -0.382045  0.258612   \n",
       "RestingBP     0.254399   1.000000     0.100893   0.070193 -0.112135  0.164803   \n",
       "Cholesterol  -0.095282   0.100893     1.000000  -0.260974  0.235792  0.050148   \n",
       "FastingBS     0.198039   0.070193    -0.260974   1.000000 -0.131438  0.052698   \n",
       "MaxHR        -0.382045  -0.112135     0.235792  -0.131438  1.000000 -0.160691   \n",
       "Oldpeak       0.258612   0.164803     0.050148   0.052698 -0.160691  1.000000   \n",
       "HeartDisease  0.282039   0.107589    -0.232741   0.267291 -0.400421  0.403951   \n",
       "\n",
       "              HeartDisease  \n",
       "Age               0.282039  \n",
       "RestingBP         0.107589  \n",
       "Cholesterol      -0.232741  \n",
       "FastingBS         0.267291  \n",
       "MaxHR            -0.400421  \n",
       "Oldpeak           0.403951  \n",
       "HeartDisease      1.000000  "
      ]
     },
     "execution_count": 18,
     "metadata": {},
     "output_type": "execute_result"
    }
   ],
   "source": [
    "df.corr()"
   ]
  },
  {
   "cell_type": "code",
   "execution_count": 6,
   "id": "fc0d4152",
   "metadata": {},
   "outputs": [],
   "source": [
    "dfc = df.copy()\n",
    "cat_cols = dfc.select_dtypes(include='object').columns.tolist()\n",
    "tiza = pd.concat([dfc.drop(columns=cat_cols),pd.get_dummies(dfc[cat_cols])],axis=1)"
   ]
  },
  {
   "cell_type": "markdown",
   "id": "1716ce01",
   "metadata": {},
   "source": [
    "# ML"
   ]
  },
  {
   "cell_type": "code",
   "execution_count": 7,
   "id": "e57bd8d5",
   "metadata": {},
   "outputs": [],
   "source": [
    "X = tiza.drop(['ColesterolCategory','HeartDisease'],axis=1)\n",
    "y = df.HeartDisease\n",
    "X_train,X_test,y_train,y_test = train_test_split(X,y,test_size=0.2,random_state=42)"
   ]
  },
  {
   "cell_type": "code",
   "execution_count": 9,
   "id": "0ea73e3b",
   "metadata": {},
   "outputs": [],
   "source": [
    "std = StandardScaler()\n",
    "X_train_std = std.fit_transform(X_train)\n",
    "X_test_std = std.transform(X_test)"
   ]
  },
  {
   "cell_type": "markdown",
   "id": "9e65548a",
   "metadata": {},
   "source": [
    "### LinearSVC"
   ]
  },
  {
   "cell_type": "code",
   "execution_count": 10,
   "id": "aae631e4",
   "metadata": {
    "scrolled": true
   },
   "outputs": [
    {
     "data": {
      "text/plain": [
       "<matplotlib.legend.Legend at 0x199a36e6490>"
      ]
     },
     "execution_count": 10,
     "metadata": {},
     "output_type": "execute_result"
    },
    {
     "data": {
      "image/png": "[encoded data removed]",
      "text/plain": [
       "<Figure size 640x480 with 1 Axes>"
      ]
     },
     "metadata": {},
     "output_type": "display_data"
    }
   ],
   "source": [
    "#LinearSVC\n",
    "from sklearn.svm import LinearSVC\n",
    "rango=range(1,11)\n",
    "X_score,y_score = validation_curve(LinearSVC(dual=False),X_train_std,y_train,param_name='C',param_range=rango)\n",
    "X_score,y_score = [np.mean(x) for x in X_score], [np.mean(y) for y in y_score]\n",
    "plt.plot(rango,X_score,label='X_score')\n",
    "plt.plot(rango,y_score,label='y_score')\n",
    "plt.legend()"
   ]
  },
  {
   "cell_type": "code",
   "execution_count": 11,
   "id": "fd2b1b80",
   "metadata": {},
   "outputs": [],
   "source": [
    "lsvc = LinearSVC(C=9,dual=False)\n",
    "lsvc.fit(X_train_std,y_train)\n",
    "y_pred = lsvc.predict(X_test_std)"
   ]
  },
  {
   "cell_type": "code",
   "execution_count": 12,
   "id": "461d7d43",
   "metadata": {
    "scrolled": true
   },
   "outputs": [
    {
     "name": "stdout",
     "output_type": "stream",
     "text": [
      "Precision: 0.9\n",
      "Accuracy: 0.8532608695652174\n",
      "Recall: 0.8411214953271028\n",
      "F1_score: 0.8695652173913043\n"
     ]
    }
   ],
   "source": [
    "print(f'Precision: {metrics.precision_score(y_test,y_pred)}\\nAccuracy: {metrics.accuracy_score(y_test,y_pred)}\\nRecall: {metrics.recall_score(y_test,y_pred)}\\nF1_score: {metrics.f1_score(y_test,y_pred)}')"
   ]
  },
  {
   "cell_type": "markdown",
   "id": "31360646",
   "metadata": {},
   "source": [
    "### RandomForest"
   ]
  },
  {
   "cell_type": "code",
   "execution_count": 73,
   "id": "cf5875cc",
   "metadata": {},
   "outputs": [
    {
     "data": {
      "text/plain": [
       "<matplotlib.legend.Legend at 0x17111e49d50>"
      ]
     },
     "execution_count": 73,
     "metadata": {},
     "output_type": "execute_result"
    },
    {
     "data": {
      "image/png": "[encoded data removed]",
      "text/plain": [
       "<Figure size 640x480 with 1 Axes>"
      ]
     },
     "metadata": {},
     "output_type": "display_data"
    }
   ],
   "source": [
    "#RandomForest\n",
    "from sklearn.ensemble import RandomForestClassifier\n",
    "rango=range(1,11)\n",
    "X_score,y_score = validation_curve(RandomForestClassifier(),X,y,param_name='max_depth',param_range=rango)\n",
    "X_score,y_score = [np.mean(x) for x in X_score], [np.mean(y) for y in y_score]\n",
    "\n",
    "plt.plot(rango,X_score,label='X_score')\n",
    "plt.plot(rango,y_score,label='y_score')\n",
    "plt.legend()"
   ]
  },
  {
   "cell_type": "code",
   "execution_count": 75,
   "id": "35ec9ebc",
   "metadata": {},
   "outputs": [
    {
     "data": {
      "text/html": [
       "<style>#sk-container-id-1 {color: black;}#sk-container-id-1 pre{padding: 0;}#sk-container-id-1 div.sk-toggleable {background-color: white;}#sk-container-id-1 label.sk-toggleable__label {cursor: pointer;display: block;width: 100%;margin-bottom: 0;padding: 0.3em;box-sizing: border-box;text-align: center;}#sk-container-id-1 label.sk-toggleable__label-arrow:before {content: \"▸\";float: left;margin-right: 0.25em;color: #696969;}#sk-container-id-1 label.sk-toggleable__label-arrow:hover:before {color: black;}#sk-container-id-1 div.sk-estimator:hover label.sk-toggleable__label-arrow:before {color: black;}#sk-container-id-1 div.sk-toggleable__content {max-height: 0;max-width: 0;overflow: hidden;text-align: left;background-color: #f0f8ff;}#sk-container-id-1 div.sk-toggleable__content pre {margin: 0.2em;color: black;border-radius: 0.25em;background-color: #f0f8ff;}#sk-container-id-1 input.sk-toggleable__control:checked~div.sk-toggleable__content {max-height: 200px;max-width: 100%;overflow: auto;}#sk-container-id-1 input.sk-toggleable__control:checked~label.sk-toggleable__label-arrow:before {content: \"▾\";}#sk-container-id-1 div.sk-estimator input.sk-toggleable__control:checked~label.sk-toggleable__label {background-color: #d4ebff;}#sk-container-id-1 div.sk-label input.sk-toggleable__control:checked~label.sk-toggleable__label {background-color: #d4ebff;}#sk-container-id-1 input.sk-hidden--visually {border: 0;clip: rect(1px 1px 1px 1px);clip: rect(1px, 1px, 1px, 1px);height: 1px;margin: -1px;overflow: hidden;padding: 0;position: absolute;width: 1px;}#sk-container-id-1 div.sk-estimator {font-family: monospace;background-color: #f0f8ff;border: 1px dotted black;border-radius: 0.25em;box-sizing: border-box;margin-bottom: 0.5em;}#sk-container-id-1 div.sk-estimator:hover {background-color: #d4ebff;}#sk-container-id-1 div.sk-parallel-item::after {content: \"\";width: 100%;border-bottom: 1px solid gray;flex-grow: 1;}#sk-container-id-1 div.sk-label:hover label.sk-toggleable__label {background-color: #d4ebff;}#sk-container-id-1 div.sk-serial::before {content: \"\";position: absolute;border-left: 1px solid gray;box-sizing: border-box;top: 0;bottom: 0;left: 50%;z-index: 0;}#sk-container-id-1 div.sk-serial {display: flex;flex-direction: column;align-items: center;background-color: white;padding-right: 0.2em;padding-left: 0.2em;position: relative;}#sk-container-id-1 div.sk-item {position: relative;z-index: 1;}#sk-container-id-1 div.sk-parallel {display: flex;align-items: stretch;justify-content: center;background-color: white;position: relative;}#sk-container-id-1 div.sk-item::before, #sk-container-id-1 div.sk-parallel-item::before {content: \"\";position: absolute;border-left: 1px solid gray;box-sizing: border-box;top: 0;bottom: 0;left: 50%;z-index: -1;}#sk-container-id-1 div.sk-parallel-item {display: flex;flex-direction: column;z-index: 1;position: relative;background-color: white;}#sk-container-id-1 div.sk-parallel-item:first-child::after {align-self: flex-end;width: 50%;}#sk-container-id-1 div.sk-parallel-item:last-child::after {align-self: flex-start;width: 50%;}#sk-container-id-1 div.sk-parallel-item:only-child::after {width: 0;}#sk-container-id-1 div.sk-dashed-wrapped {border: 1px dashed gray;margin: 0 0.4em 0.5em 0.4em;box-sizing: border-box;padding-bottom: 0.4em;background-color: white;}#sk-container-id-1 div.sk-label label {font-family: monospace;font-weight: bold;display: inline-block;line-height: 1.2em;}#sk-container-id-1 div.sk-label-container {text-align: center;}#sk-container-id-1 div.sk-container {/* jupyter's `normalize.less` sets `[hidden] { display: none; }` but bootstrap.min.css set `[hidden] { display: none !important; }` so we also need the `!important` here to be able to override the default hidden behavior on the sphinx rendered scikit-learn.org. See: https://github.com/scikit-learn/scikit-learn/issues/21755 */display: inline-block !important;position: relative;}#sk-container-id-1 div.sk-text-repr-fallback {display: none;}</style><div id=\"sk-container-id-1\" class=\"sk-top-container\"><div class=\"sk-text-repr-fallback\"><pre>GridSearchCV(estimator=RandomForestClassifier(),\n",
       "             param_grid={&#x27;max_depth&#x27;: range(1, 11),\n",
       "                         &#x27;n_estimators&#x27;: [50, 80, 100]})</pre><b>In a Jupyter environment, please rerun this cell to show the HTML representation or trust the notebook. <br />On GitHub, the HTML representation is unable to render, please try loading this page with nbviewer.org.</b></div><div class=\"sk-container\" hidden><div class=\"sk-item sk-dashed-wrapped\"><div class=\"sk-label-container\"><div class=\"sk-label sk-toggleable\"><input class=\"sk-toggleable__control sk-hidden--visually\" id=\"sk-estimator-id-1\" type=\"checkbox\" ><label for=\"sk-estimator-id-1\" class=\"sk-toggleable__label sk-toggleable__label-arrow\">GridSearchCV</label><div class=\"sk-toggleable__content\"><pre>GridSearchCV(estimator=RandomForestClassifier(),\n",
       "             param_grid={&#x27;max_depth&#x27;: range(1, 11),\n",
       "                         &#x27;n_estimators&#x27;: [50, 80, 100]})</pre></div></div></div><div class=\"sk-parallel\"><div class=\"sk-parallel-item\"><div class=\"sk-item\"><div class=\"sk-label-container\"><div class=\"sk-label sk-toggleable\"><input class=\"sk-toggleable__control sk-hidden--visually\" id=\"sk-estimator-id-2\" type=\"checkbox\" ><label for=\"sk-estimator-id-2\" class=\"sk-toggleable__label sk-toggleable__label-arrow\">estimator: RandomForestClassifier</label><div class=\"sk-toggleable__content\"><pre>RandomForestClassifier()</pre></div></div></div><div class=\"sk-serial\"><div class=\"sk-item\"><div class=\"sk-estimator sk-toggleable\"><input class=\"sk-toggleable__control sk-hidden--visually\" id=\"sk-estimator-id-3\" type=\"checkbox\" ><label for=\"sk-estimator-id-3\" class=\"sk-toggleable__label sk-toggleable__label-arrow\">RandomForestClassifier</label><div class=\"sk-toggleable__content\"><pre>RandomForestClassifier()</pre></div></div></div></div></div></div></div></div></div></div>"
      ],
      "text/plain": [
       "GridSearchCV(estimator=RandomForestClassifier(),\n",
       "             param_grid={'max_depth': range(1, 11),\n",
       "                         'n_estimators': [50, 80, 100]})"
      ]
     },
     "execution_count": 75,
     "metadata": {},
     "output_type": "execute_result"
    }
   ],
   "source": [
    "grid = {'n_estimators':[50,80,100],'max_depth':rango}\n",
    "gs = GridSearchCV(RandomForestClassifier(),param_grid=grid)\n",
    "gs.fit(X,y)"
   ]
  },
  {
   "cell_type": "code",
   "execution_count": 79,
   "id": "80dc346f",
   "metadata": {},
   "outputs": [
    {
     "data": {
      "text/plain": [
       "({'max_depth': 4, 'n_estimators': 80}, 0.840864813494892)"
      ]
     },
     "execution_count": 79,
     "metadata": {},
     "output_type": "execute_result"
    }
   ],
   "source": [
    "gs.best_params_, gs.best_score_"
   ]
  },
  {
   "cell_type": "code",
   "execution_count": 82,
   "id": "bdf57f97",
   "metadata": {},
   "outputs": [],
   "source": [
    "rf = RandomForestClassifier(n_estimators=80,max_depth=4)\n",
    "rf.fit(X_train,y_train)\n",
    "y_pred = rf.predict(X_test)"
   ]
  },
  {
   "cell_type": "code",
   "execution_count": 70,
   "id": "a4097a4e",
   "metadata": {
    "scrolled": true
   },
   "outputs": [
    {
     "name": "stdout",
     "output_type": "stream",
     "text": [
      "Precision: 0.8508771929824561\n",
      "Accuracy: 0.8532608695652174\n",
      "Recall: 0.9065420560747663\n",
      "F1_score: 0.8778280542986425\n"
     ]
    }
   ],
   "source": [
    "print(f'Precision: {metrics.precision_score(y_test,y_pred)}\\nAccuracy: {metrics.accuracy_score(y_test,y_pred)}\\nRecall: {metrics.recall_score(y_test,y_pred)}\\nF1_score: {metrics.f1_score(y_test,y_pred)}')"
   ]
  },
  {
   "cell_type": "markdown",
   "id": "7b355853",
   "metadata": {},
   "source": [
    "### XGBClassifier"
   ]
  },
  {
   "cell_type": "code",
   "execution_count": 19,
   "id": "ce2ea048",
   "metadata": {},
   "outputs": [
    {
     "name": "stdout",
     "output_type": "stream",
     "text": [
      "Collecting xgboost\n",
      "  Obtaining dependency information for xgboost from https://files.pythonhosted.org/packages/24/ec/ad387100fa3cc2b9b81af0829b5ecfe75ec5bb19dd7c19d4fea06fb81802/xgboost-2.0.3-py3-none-win_amd64.whl.metadata\n",
      "  Using cached xgboost-2.0.3-py3-none-win_amd64.whl.metadata (2.0 kB)\n",
      "Requirement already satisfied: numpy in c:\\users\\mina\\anaconda3\\lib\\site-packages (from xgboost) (1.24.3)\n",
      "Requirement already satisfied: scipy in c:\\users\\mina\\anaconda3\\lib\\site-packages (from xgboost) (1.11.1)\n",
      "Downloading xgboost-2.0.3-py3-none-win_amd64.whl (99.8 MB)\n",
      "   ---------------------------------------- 0.0/99.8 MB ? eta -:--:--\n",
      "   ---------------------------------------- 0.0/99.8 MB ? eta -:--:--\n",
      "   ---------------------------------------- 0.0/99.8 MB 325.1 kB/s eta 0:05:07\n",
      "   ---------------------------------------- 0.1/99.8 MB 581.0 kB/s eta 0:02:52\n",
      "   ---------------------------------------- 0.2/99.8 MB 980.4 kB/s eta 0:01:42\n",
      "   ---------------------------------------- 0.3/99.8 MB 1.3 MB/s eta 0:01:17\n",
      "   ---------------------------------------- 0.5/99.8 MB 1.7 MB/s eta 0:00:57\n",
      "   ---------------------------------------- 0.7/99.8 MB 2.2 MB/s eta 0:00:45\n",
      "   ---------------------------------------- 0.9/99.8 MB 2.5 MB/s eta 0:00:41\n",
      "   ---------------------------------------- 1.2/99.8 MB 2.7 MB/s eta 0:00:37\n",
      "    --------------------------------------- 1.4/99.8 MB 3.1 MB/s eta 0:00:33\n",
      "    --------------------------------------- 1.7/99.8 MB 3.2 MB/s eta 0:00:31\n",
      "    --------------------------------------- 1.9/99.8 MB 3.4 MB/s eta 0:00:30\n",
      "    --------------------------------------- 1.9/99.8 MB 3.4 MB/s eta 0:00:30\n",
      "    --------------------------------------- 1.9/99.8 MB 2.9 MB/s eta 0:00:35\n",
      "    --------------------------------------- 2.2/99.8 MB 3.1 MB/s eta 0:00:32\n",
      "    --------------------------------------- 2.5/99.8 MB 3.3 MB/s eta 0:00:30\n",
      "   - -------------------------------------- 2.8/99.8 MB 3.5 MB/s eta 0:00:28\n",
      "   - -------------------------------------- 3.0/99.8 MB 3.6 MB/s eta 0:00:27\n",
      "   - -------------------------------------- 3.3/99.8 MB 3.7 MB/s eta 0:00:26\n",
      "   - -------------------------------------- 3.6/99.8 MB 3.9 MB/s eta 0:00:25\n",
      "   - -------------------------------------- 3.9/99.8 MB 4.0 MB/s eta 0:00:25\n",
      "   - -------------------------------------- 4.2/99.8 MB 4.1 MB/s eta 0:00:24\n",
      "   - -------------------------------------- 4.5/99.8 MB 4.2 MB/s eta 0:00:23\n",
      "   - -------------------------------------- 4.8/99.8 MB 4.2 MB/s eta 0:00:23\n",
      "   -- ------------------------------------- 5.0/99.8 MB 4.2 MB/s eta 0:00:23\n",
      "   -- ------------------------------------- 5.2/99.8 MB 4.3 MB/s eta 0:00:23\n",
      "   -- ------------------------------------- 5.5/99.8 MB 4.3 MB/s eta 0:00:23\n",
      "   -- ------------------------------------- 5.7/99.8 MB 4.3 MB/s eta 0:00:22\n",
      "   -- ------------------------------------- 5.9/99.8 MB 4.3 MB/s eta 0:00:22\n",
      "   -- ------------------------------------- 6.2/99.8 MB 4.3 MB/s eta 0:00:22\n",
      "   -- ------------------------------------- 6.4/99.8 MB 4.4 MB/s eta 0:00:22\n",
      "   -- ------------------------------------- 6.7/99.8 MB 4.4 MB/s eta 0:00:22\n",
      "   -- ------------------------------------- 6.9/99.8 MB 4.4 MB/s eta 0:00:21\n",
      "   -- ------------------------------------- 7.1/99.8 MB 4.4 MB/s eta 0:00:21\n",
      "   -- ------------------------------------- 7.4/99.8 MB 4.5 MB/s eta 0:00:21\n",
      "   --- ------------------------------------ 7.6/99.8 MB 4.5 MB/s eta 0:00:21\n",
      "   --- ------------------------------------ 7.9/99.8 MB 4.5 MB/s eta 0:00:21\n",
      "   --- ------------------------------------ 8.1/99.8 MB 4.5 MB/s eta 0:00:21\n",
      "   --- ------------------------------------ 8.3/99.8 MB 4.5 MB/s eta 0:00:21\n",
      "   --- ------------------------------------ 8.6/99.8 MB 4.5 MB/s eta 0:00:21\n",
      "   --- ------------------------------------ 8.8/99.8 MB 4.5 MB/s eta 0:00:21\n",
      "   --- ------------------------------------ 9.1/99.8 MB 4.6 MB/s eta 0:00:20\n",
      "   --- ------------------------------------ 9.3/99.8 MB 4.6 MB/s eta 0:00:20\n",
      "   --- ------------------------------------ 9.5/99.8 MB 4.6 MB/s eta 0:00:20\n",
      "   --- ------------------------------------ 9.8/99.8 MB 4.6 MB/s eta 0:00:20\n",
      "   ---- ----------------------------------- 10.0/99.8 MB 4.6 MB/s eta 0:00:20\n",
      "   ---- ----------------------------------- 10.2/99.8 MB 4.6 MB/s eta 0:00:20\n",
      "   ---- ----------------------------------- 10.5/99.8 MB 5.0 MB/s eta 0:00:18\n",
      "   ---- ----------------------------------- 10.7/99.8 MB 5.0 MB/s eta 0:00:18\n",
      "   ---- ----------------------------------- 10.9/99.8 MB 5.0 MB/s eta 0:00:18\n",
      "   ---- ----------------------------------- 11.2/99.8 MB 5.0 MB/s eta 0:00:18\n",
      "   ---- ----------------------------------- 11.4/99.8 MB 5.0 MB/s eta 0:00:18\n",
      "   ---- ----------------------------------- 11.6/99.8 MB 5.0 MB/s eta 0:00:18\n",
      "   ---- ----------------------------------- 11.9/99.8 MB 5.0 MB/s eta 0:00:18\n",
      "   ---- ----------------------------------- 12.1/99.8 MB 5.3 MB/s eta 0:00:17\n",
      "   ---- ----------------------------------- 12.4/99.8 MB 5.2 MB/s eta 0:00:17\n",
      "   ----- ---------------------------------- 12.6/99.8 MB 5.2 MB/s eta 0:00:17\n",
      "   ----- ---------------------------------- 12.9/99.8 MB 5.2 MB/s eta 0:00:17\n",
      "   ----- ---------------------------------- 13.1/99.8 MB 5.2 MB/s eta 0:00:17\n",
      "   ----- ---------------------------------- 13.4/99.8 MB 5.2 MB/s eta 0:00:17\n",
      "   ----- ---------------------------------- 13.6/99.8 MB 5.2 MB/s eta 0:00:17\n",
      "   ----- ---------------------------------- 13.8/99.8 MB 5.1 MB/s eta 0:00:17\n",
      "   ----- ---------------------------------- 14.1/99.8 MB 5.1 MB/s eta 0:00:17\n",
      "   ----- ---------------------------------- 14.3/99.8 MB 5.1 MB/s eta 0:00:17\n",
      "   ----- ---------------------------------- 14.5/99.8 MB 5.1 MB/s eta 0:00:17\n",
      "   ----- ---------------------------------- 14.8/99.8 MB 5.0 MB/s eta 0:00:17\n",
      "   ------ --------------------------------- 15.0/99.8 MB 5.0 MB/s eta 0:00:17\n",
      "   ------ --------------------------------- 15.2/99.8 MB 5.0 MB/s eta 0:00:17\n",
      "   ------ --------------------------------- 15.5/99.8 MB 5.0 MB/s eta 0:00:17\n",
      "   ------ --------------------------------- 15.7/99.8 MB 5.0 MB/s eta 0:00:17\n",
      "   ------ --------------------------------- 16.0/99.8 MB 5.0 MB/s eta 0:00:17\n",
      "   ------ --------------------------------- 16.2/99.8 MB 5.0 MB/s eta 0:00:17\n",
      "   ------ --------------------------------- 16.4/99.8 MB 5.0 MB/s eta 0:00:17\n",
      "   ------ --------------------------------- 16.7/99.8 MB 5.0 MB/s eta 0:00:17\n",
      "   ------ --------------------------------- 16.9/99.8 MB 5.0 MB/s eta 0:00:17\n",
      "   ------ --------------------------------- 17.2/99.8 MB 5.0 MB/s eta 0:00:17\n",
      "   ------ --------------------------------- 17.4/99.8 MB 5.0 MB/s eta 0:00:17\n",
      "   ------- -------------------------------- 17.5/99.8 MB 5.0 MB/s eta 0:00:17\n",
      "   ------- -------------------------------- 17.5/99.8 MB 5.0 MB/s eta 0:00:17\n",
      "   ------- -------------------------------- 17.6/99.8 MB 4.8 MB/s eta 0:00:18\n",
      "   ------- -------------------------------- 17.9/99.8 MB 4.8 MB/s eta 0:00:17\n",
      "   ------- -------------------------------- 18.2/99.8 MB 4.8 MB/s eta 0:00:17\n",
      "   ------- -------------------------------- 18.5/99.8 MB 4.9 MB/s eta 0:00:17\n",
      "   ------- -------------------------------- 18.8/99.8 MB 4.9 MB/s eta 0:00:17\n",
      "   ------- -------------------------------- 19.1/99.8 MB 4.9 MB/s eta 0:00:17\n",
      "   ------- -------------------------------- 19.4/99.8 MB 4.9 MB/s eta 0:00:17\n",
      "   ------- -------------------------------- 19.7/99.8 MB 5.0 MB/s eta 0:00:17\n",
      "   -------- ------------------------------- 20.0/99.8 MB 5.0 MB/s eta 0:00:16\n",
      "   -------- ------------------------------- 20.3/99.8 MB 5.0 MB/s eta 0:00:16\n",
      "   -------- ------------------------------- 20.5/99.8 MB 5.0 MB/s eta 0:00:16\n",
      "   -------- ------------------------------- 20.7/99.8 MB 5.0 MB/s eta 0:00:16\n",
      "   -------- ------------------------------- 21.0/99.8 MB 5.0 MB/s eta 0:00:16\n",
      "   -------- ------------------------------- 21.2/99.8 MB 5.0 MB/s eta 0:00:16\n",
      "   -------- ------------------------------- 21.5/99.8 MB 5.0 MB/s eta 0:00:16\n",
      "   -------- ------------------------------- 21.7/99.8 MB 5.0 MB/s eta 0:00:16\n",
      "   -------- ------------------------------- 21.9/99.8 MB 5.0 MB/s eta 0:00:16\n",
      "   -------- ------------------------------- 22.1/99.8 MB 5.0 MB/s eta 0:00:16\n",
      "   -------- ------------------------------- 22.4/99.8 MB 5.0 MB/s eta 0:00:16\n",
      "   --------- ------------------------------ 22.7/99.8 MB 5.0 MB/s eta 0:00:16\n",
      "   --------- ------------------------------ 22.9/99.8 MB 5.0 MB/s eta 0:00:16\n",
      "   --------- ------------------------------ 23.1/99.8 MB 5.0 MB/s eta 0:00:16\n",
      "   --------- ------------------------------ 23.4/99.8 MB 5.0 MB/s eta 0:00:16\n",
      "   --------- ------------------------------ 23.6/99.8 MB 5.0 MB/s eta 0:00:16\n",
      "   --------- ------------------------------ 23.8/99.8 MB 5.0 MB/s eta 0:00:16\n",
      "   --------- ------------------------------ 24.1/99.8 MB 5.0 MB/s eta 0:00:16\n",
      "   --------- ------------------------------ 24.3/99.8 MB 5.0 MB/s eta 0:00:15\n",
      "   --------- ------------------------------ 24.6/99.8 MB 5.0 MB/s eta 0:00:16\n",
      "   --------- ------------------------------ 24.8/99.8 MB 5.0 MB/s eta 0:00:15\n",
      "   ---------- ----------------------------- 25.0/99.8 MB 5.0 MB/s eta 0:00:15\n",
      "   ---------- ----------------------------- 25.3/99.8 MB 5.0 MB/s eta 0:00:15\n",
      "   ---------- ----------------------------- 25.5/99.8 MB 5.0 MB/s eta 0:00:15\n",
      "   ---------- ----------------------------- 25.8/99.8 MB 5.0 MB/s eta 0:00:15\n",
      "   ---------- ----------------------------- 26.0/99.8 MB 5.0 MB/s eta 0:00:15\n",
      "   ---------- ----------------------------- 26.2/99.8 MB 5.0 MB/s eta 0:00:15\n",
      "   ---------- ----------------------------- 26.5/99.8 MB 5.0 MB/s eta 0:00:15\n",
      "   ---------- ----------------------------- 26.7/99.8 MB 5.0 MB/s eta 0:00:15\n",
      "   ---------- ----------------------------- 27.0/99.8 MB 5.0 MB/s eta 0:00:15\n",
      "   ---------- ----------------------------- 27.2/99.8 MB 5.0 MB/s eta 0:00:15\n",
      "   ----------- ---------------------------- 27.4/99.8 MB 5.0 MB/s eta 0:00:15\n",
      "   ----------- ---------------------------- 27.7/99.8 MB 5.0 MB/s eta 0:00:15\n",
      "   ----------- ---------------------------- 27.9/99.8 MB 5.3 MB/s eta 0:00:14\n",
      "   ----------- ---------------------------- 28.1/99.8 MB 5.3 MB/s eta 0:00:14\n",
      "   ----------- ---------------------------- 28.3/99.8 MB 5.2 MB/s eta 0:00:14\n",
      "   ----------- ---------------------------- 28.6/99.8 MB 5.2 MB/s eta 0:00:14\n",
      "   ----------- ---------------------------- 28.8/99.8 MB 5.2 MB/s eta 0:00:14\n",
      "   ----------- ---------------------------- 29.1/99.8 MB 5.2 MB/s eta 0:00:14\n",
      "   ----------- ---------------------------- 29.3/99.8 MB 5.2 MB/s eta 0:00:14\n",
      "   ----------- ---------------------------- 29.6/99.8 MB 5.1 MB/s eta 0:00:14\n",
      "   ----------- ---------------------------- 29.8/99.8 MB 5.1 MB/s eta 0:00:14\n",
      "   ------------ --------------------------- 30.1/99.8 MB 5.0 MB/s eta 0:00:14\n",
      "   ------------ --------------------------- 30.3/99.8 MB 5.0 MB/s eta 0:00:14\n",
      "   ------------ --------------------------- 30.5/99.8 MB 5.0 MB/s eta 0:00:14\n",
      "   ------------ --------------------------- 30.8/99.8 MB 5.0 MB/s eta 0:00:14\n",
      "   ------------ --------------------------- 31.0/99.8 MB 5.0 MB/s eta 0:00:14\n",
      "   ------------ --------------------------- 31.2/99.8 MB 5.0 MB/s eta 0:00:14\n",
      "   ------------ --------------------------- 31.4/99.8 MB 5.0 MB/s eta 0:00:14\n",
      "   ------------ --------------------------- 31.7/99.8 MB 5.0 MB/s eta 0:00:14\n",
      "   ------------ --------------------------- 31.9/99.8 MB 5.0 MB/s eta 0:00:14\n",
      "   ------------ --------------------------- 32.2/99.8 MB 5.0 MB/s eta 0:00:14\n",
      "   ------------- -------------------------- 32.4/99.8 MB 5.0 MB/s eta 0:00:14\n",
      "   ------------- -------------------------- 32.7/99.8 MB 5.0 MB/s eta 0:00:14\n",
      "   ------------- -------------------------- 32.9/99.8 MB 5.0 MB/s eta 0:00:14\n",
      "   ------------- -------------------------- 33.2/99.8 MB 5.0 MB/s eta 0:00:14\n",
      "   ------------- -------------------------- 33.2/99.8 MB 5.0 MB/s eta 0:00:14\n",
      "   ------------- -------------------------- 33.2/99.8 MB 5.0 MB/s eta 0:00:14\n",
      "   ------------- -------------------------- 33.5/99.8 MB 4.9 MB/s eta 0:00:14\n",
      "   ------------- -------------------------- 33.8/99.8 MB 4.9 MB/s eta 0:00:14\n",
      "   ------------- -------------------------- 34.1/99.8 MB 4.9 MB/s eta 0:00:14\n",
      "   ------------- -------------------------- 34.3/99.8 MB 4.9 MB/s eta 0:00:14\n",
      "   ------------- -------------------------- 34.7/99.8 MB 5.0 MB/s eta 0:00:14\n",
      "   -------------- ------------------------- 35.0/99.8 MB 5.0 MB/s eta 0:00:13\n",
      "   -------------- ------------------------- 35.3/99.8 MB 5.0 MB/s eta 0:00:13\n",
      "   -------------- ------------------------- 35.5/99.8 MB 5.0 MB/s eta 0:00:13\n",
      "   -------------- ------------------------- 35.8/99.8 MB 5.0 MB/s eta 0:00:13\n",
      "   -------------- ------------------------- 36.0/99.8 MB 5.0 MB/s eta 0:00:13\n",
      "   -------------- ------------------------- 36.2/99.8 MB 5.0 MB/s eta 0:00:13\n",
      "   -------------- ------------------------- 36.5/99.8 MB 5.0 MB/s eta 0:00:13\n",
      "   -------------- ------------------------- 36.7/99.8 MB 5.0 MB/s eta 0:00:13\n",
      "   -------------- ------------------------- 37.0/99.8 MB 5.0 MB/s eta 0:00:13\n",
      "   -------------- ------------------------- 37.2/99.8 MB 5.0 MB/s eta 0:00:13\n",
      "   --------------- ------------------------ 37.4/99.8 MB 5.0 MB/s eta 0:00:13\n",
      "   --------------- ------------------------ 37.7/99.8 MB 5.0 MB/s eta 0:00:13\n",
      "   --------------- ------------------------ 37.9/99.8 MB 5.0 MB/s eta 0:00:13\n",
      "   --------------- ------------------------ 38.1/99.8 MB 5.0 MB/s eta 0:00:13\n",
      "   --------------- ------------------------ 38.4/99.8 MB 5.0 MB/s eta 0:00:13\n",
      "   --------------- ------------------------ 38.6/99.8 MB 5.0 MB/s eta 0:00:13\n",
      "   --------------- ------------------------ 38.9/99.8 MB 5.0 MB/s eta 0:00:13\n",
      "   --------------- ------------------------ 39.1/99.8 MB 5.0 MB/s eta 0:00:13\n",
      "   --------------- ------------------------ 39.4/99.8 MB 5.0 MB/s eta 0:00:12\n",
      "   --------------- ------------------------ 39.6/99.8 MB 5.0 MB/s eta 0:00:12\n",
      "   --------------- ------------------------ 39.8/99.8 MB 5.0 MB/s eta 0:00:12\n",
      "   ---------------- ----------------------- 40.1/99.8 MB 5.0 MB/s eta 0:00:12\n",
      "   ---------------- ----------------------- 40.3/99.8 MB 5.0 MB/s eta 0:00:12\n",
      "   ---------------- ----------------------- 40.5/99.8 MB 5.0 MB/s eta 0:00:12\n",
      "   ---------------- ----------------------- 40.8/99.8 MB 5.0 MB/s eta 0:00:12\n",
      "   ---------------- ----------------------- 41.0/99.8 MB 5.0 MB/s eta 0:00:12\n",
      "   ---------------- ----------------------- 41.3/99.8 MB 5.0 MB/s eta 0:00:12\n",
      "   ---------------- ----------------------- 41.5/99.8 MB 5.0 MB/s eta 0:00:12\n",
      "   ---------------- ----------------------- 41.7/99.8 MB 5.0 MB/s eta 0:00:12\n",
      "   ---------------- ----------------------- 42.0/99.8 MB 5.0 MB/s eta 0:00:12\n",
      "   ---------------- ----------------------- 42.2/99.8 MB 5.0 MB/s eta 0:00:12\n",
      "   ----------------- ---------------------- 42.5/99.8 MB 5.0 MB/s eta 0:00:12\n",
      "   ----------------- ---------------------- 42.7/99.8 MB 5.0 MB/s eta 0:00:12\n",
      "   ----------------- ---------------------- 42.9/99.8 MB 5.0 MB/s eta 0:00:12\n",
      "   ----------------- ---------------------- 43.2/99.8 MB 5.0 MB/s eta 0:00:12\n",
      "   ----------------- ---------------------- 43.4/99.8 MB 5.0 MB/s eta 0:00:12\n",
      "   ----------------- ---------------------- 43.7/99.8 MB 5.2 MB/s eta 0:00:11\n",
      "   ----------------- ---------------------- 43.9/99.8 MB 5.2 MB/s eta 0:00:11\n",
      "   ----------------- ---------------------- 44.1/99.8 MB 5.2 MB/s eta 0:00:11\n",
      "   ----------------- ---------------------- 44.3/99.8 MB 5.2 MB/s eta 0:00:11\n",
      "   ----------------- ---------------------- 44.6/99.8 MB 5.2 MB/s eta 0:00:11\n",
      "   ----------------- ---------------------- 44.8/99.8 MB 5.1 MB/s eta 0:00:11\n",
      "   ------------------ --------------------- 45.1/99.8 MB 5.1 MB/s eta 0:00:11\n",
      "   ------------------ --------------------- 45.3/99.8 MB 5.0 MB/s eta 0:00:11\n",
      "   ------------------ --------------------- 45.5/99.8 MB 5.0 MB/s eta 0:00:11\n",
      "   ------------------ --------------------- 45.8/99.8 MB 5.0 MB/s eta 0:00:11\n",
      "   ------------------ --------------------- 46.0/99.8 MB 5.0 MB/s eta 0:00:11\n",
      "   ------------------ --------------------- 46.2/99.8 MB 5.0 MB/s eta 0:00:11\n",
      "   ------------------ --------------------- 46.5/99.8 MB 5.0 MB/s eta 0:00:11\n",
      "   ------------------ --------------------- 46.7/99.8 MB 5.0 MB/s eta 0:00:11\n",
      "   ------------------ --------------------- 47.0/99.8 MB 5.0 MB/s eta 0:00:11\n",
      "   ------------------ --------------------- 47.2/99.8 MB 5.0 MB/s eta 0:00:11\n",
      "   ------------------- -------------------- 47.4/99.8 MB 5.0 MB/s eta 0:00:11\n",
      "   ------------------- -------------------- 47.7/99.8 MB 5.0 MB/s eta 0:00:11\n",
      "   ------------------- -------------------- 47.9/99.8 MB 5.0 MB/s eta 0:00:11\n",
      "   ------------------- -------------------- 48.2/99.8 MB 5.0 MB/s eta 0:00:11\n",
      "   ------------------- -------------------- 48.4/99.8 MB 5.0 MB/s eta 0:00:11\n",
      "   ------------------- -------------------- 48.6/99.8 MB 5.0 MB/s eta 0:00:11\n",
      "   ------------------- -------------------- 48.9/99.8 MB 5.0 MB/s eta 0:00:11\n",
      "   ------------------- -------------------- 48.9/99.8 MB 5.0 MB/s eta 0:00:11\n",
      "   ------------------- -------------------- 48.9/99.8 MB 5.0 MB/s eta 0:00:11\n",
      "   ------------------- -------------------- 49.1/99.8 MB 4.8 MB/s eta 0:00:11\n",
      "   ------------------- -------------------- 49.4/99.8 MB 4.8 MB/s eta 0:00:11\n",
      "   ------------------- -------------------- 49.7/99.8 MB 4.8 MB/s eta 0:00:11\n",
      "   -------------------- ------------------- 50.0/99.8 MB 4.9 MB/s eta 0:00:11\n",
      "   -------------------- ------------------- 50.3/99.8 MB 4.9 MB/s eta 0:00:11\n",
      "   -------------------- ------------------- 50.6/99.8 MB 5.0 MB/s eta 0:00:10\n",
      "   -------------------- ------------------- 50.9/99.8 MB 5.0 MB/s eta 0:00:10\n",
      "   -------------------- ------------------- 51.2/99.8 MB 5.0 MB/s eta 0:00:10\n",
      "   -------------------- ------------------- 51.5/99.8 MB 5.0 MB/s eta 0:00:10\n",
      "   -------------------- ------------------- 51.8/99.8 MB 5.0 MB/s eta 0:00:10\n",
      "   -------------------- ------------------- 52.0/99.8 MB 5.0 MB/s eta 0:00:10\n",
      "   -------------------- ------------------- 52.2/99.8 MB 5.0 MB/s eta 0:00:10\n",
      "   --------------------- ------------------ 52.5/99.8 MB 5.0 MB/s eta 0:00:10\n",
      "   --------------------- ------------------ 52.7/99.8 MB 5.0 MB/s eta 0:00:10\n",
      "   --------------------- ------------------ 53.0/99.8 MB 5.0 MB/s eta 0:00:10\n",
      "   --------------------- ------------------ 53.2/99.8 MB 5.0 MB/s eta 0:00:10\n",
      "   --------------------- ------------------ 53.4/99.8 MB 5.0 MB/s eta 0:00:10\n",
      "   --------------------- ------------------ 53.7/99.8 MB 5.0 MB/s eta 0:00:10\n",
      "   --------------------- ------------------ 53.9/99.8 MB 5.0 MB/s eta 0:00:10\n",
      "   --------------------- ------------------ 54.1/99.8 MB 5.0 MB/s eta 0:00:10\n",
      "   --------------------- ------------------ 54.4/99.8 MB 5.0 MB/s eta 0:00:10\n",
      "   --------------------- ------------------ 54.6/99.8 MB 5.0 MB/s eta 0:00:10\n",
      "   --------------------- ------------------ 54.9/99.8 MB 5.0 MB/s eta 0:00:09\n",
      "   ---------------------- ----------------- 55.1/99.8 MB 5.0 MB/s eta 0:00:09\n",
      "   ---------------------- ----------------- 55.3/99.8 MB 5.0 MB/s eta 0:00:09\n",
      "   ---------------------- ----------------- 55.6/99.8 MB 5.0 MB/s eta 0:00:09\n",
      "   ---------------------- ----------------- 55.8/99.8 MB 5.0 MB/s eta 0:00:09\n",
      "   ---------------------- ----------------- 56.1/99.8 MB 5.0 MB/s eta 0:00:09\n",
      "   ---------------------- ----------------- 56.3/99.8 MB 5.0 MB/s eta 0:00:09\n",
      "   ---------------------- ----------------- 56.5/99.8 MB 5.0 MB/s eta 0:00:09\n",
      "   ---------------------- ----------------- 56.8/99.8 MB 5.0 MB/s eta 0:00:09\n",
      "   ---------------------- ----------------- 57.0/99.8 MB 5.0 MB/s eta 0:00:09\n",
      "   ---------------------- ----------------- 57.3/99.8 MB 5.0 MB/s eta 0:00:09\n",
      "   ----------------------- ---------------- 57.5/99.8 MB 5.0 MB/s eta 0:00:09\n",
      "   ----------------------- ---------------- 57.7/99.8 MB 5.0 MB/s eta 0:00:09\n",
      "   ----------------------- ---------------- 58.0/99.8 MB 5.0 MB/s eta 0:00:09\n",
      "   ----------------------- ---------------- 58.2/99.8 MB 5.0 MB/s eta 0:00:09\n",
      "   ----------------------- ---------------- 58.4/99.8 MB 5.0 MB/s eta 0:00:09\n",
      "   ----------------------- ---------------- 58.7/99.8 MB 5.0 MB/s eta 0:00:09\n",
      "   ----------------------- ---------------- 58.9/99.8 MB 5.0 MB/s eta 0:00:09\n",
      "   ----------------------- ---------------- 59.2/99.8 MB 5.3 MB/s eta 0:00:08\n",
      "   ----------------------- ---------------- 59.4/99.8 MB 5.3 MB/s eta 0:00:08\n",
      "   ----------------------- ---------------- 59.6/99.8 MB 5.2 MB/s eta 0:00:08\n",
      "   ------------------------ --------------- 59.9/99.8 MB 5.2 MB/s eta 0:00:08\n",
      "   ------------------------ --------------- 60.1/99.8 MB 5.2 MB/s eta 0:00:08\n",
      "   ------------------------ --------------- 60.3/99.8 MB 5.2 MB/s eta 0:00:08\n",
      "   ------------------------ --------------- 60.6/99.8 MB 5.1 MB/s eta 0:00:08\n",
      "   ------------------------ --------------- 60.8/99.8 MB 5.1 MB/s eta 0:00:08\n",
      "   ------------------------ --------------- 61.0/99.8 MB 5.1 MB/s eta 0:00:08\n",
      "   ------------------------ --------------- 61.3/99.8 MB 5.1 MB/s eta 0:00:08\n",
      "   ------------------------ --------------- 61.5/99.8 MB 5.0 MB/s eta 0:00:08\n",
      "   ------------------------ --------------- 61.7/99.8 MB 5.0 MB/s eta 0:00:08\n",
      "   ------------------------ --------------- 62.0/99.8 MB 5.0 MB/s eta 0:00:08\n",
      "   ------------------------ --------------- 62.2/99.8 MB 5.0 MB/s eta 0:00:08\n",
      "   ------------------------- -------------- 62.4/99.8 MB 5.0 MB/s eta 0:00:08\n",
      "   ------------------------- -------------- 62.7/99.8 MB 5.0 MB/s eta 0:00:08\n",
      "   ------------------------- -------------- 62.9/99.8 MB 5.0 MB/s eta 0:00:08\n",
      "   ------------------------- -------------- 63.2/99.8 MB 5.0 MB/s eta 0:00:08\n",
      "   ------------------------- -------------- 63.4/99.8 MB 5.0 MB/s eta 0:00:08\n",
      "   ------------------------- -------------- 63.6/99.8 MB 5.0 MB/s eta 0:00:08\n",
      "   ------------------------- -------------- 63.8/99.8 MB 5.0 MB/s eta 0:00:08\n",
      "   ------------------------- -------------- 64.1/99.8 MB 5.0 MB/s eta 0:00:08\n",
      "   ------------------------- -------------- 64.3/99.8 MB 5.0 MB/s eta 0:00:08\n",
      "   ------------------------- -------------- 64.6/99.8 MB 5.0 MB/s eta 0:00:07\n",
      "   ------------------------- -------------- 64.6/99.8 MB 5.0 MB/s eta 0:00:07\n",
      "   ------------------------- -------------- 64.6/99.8 MB 4.8 MB/s eta 0:00:08\n",
      "   -------------------------- ------------- 64.9/99.8 MB 4.8 MB/s eta 0:00:08\n",
      "   -------------------------- ------------- 65.2/99.8 MB 4.8 MB/s eta 0:00:08\n",
      "   -------------------------- ------------- 65.5/99.8 MB 4.9 MB/s eta 0:00:08\n",
      "   -------------------------- ------------- 65.8/99.8 MB 4.9 MB/s eta 0:00:07\n",
      "   -------------------------- ------------- 66.1/99.8 MB 5.0 MB/s eta 0:00:07\n",
      "   -------------------------- ------------- 66.3/99.8 MB 5.0 MB/s eta 0:00:07\n",
      "   -------------------------- ------------- 66.6/99.8 MB 5.0 MB/s eta 0:00:07\n",
      "   -------------------------- ------------- 66.9/99.8 MB 5.0 MB/s eta 0:00:07\n",
      "   -------------------------- ------------- 67.2/99.8 MB 5.0 MB/s eta 0:00:07\n",
      "   --------------------------- ------------ 67.4/99.8 MB 5.0 MB/s eta 0:00:07\n",
      "   --------------------------- ------------ 67.6/99.8 MB 5.0 MB/s eta 0:00:07\n",
      "   --------------------------- ------------ 67.9/99.8 MB 5.0 MB/s eta 0:00:07\n",
      "   --------------------------- ------------ 68.1/99.8 MB 5.0 MB/s eta 0:00:07\n",
      "   --------------------------- ------------ 68.4/99.8 MB 5.0 MB/s eta 0:00:07\n",
      "   --------------------------- ------------ 68.6/99.8 MB 5.0 MB/s eta 0:00:07\n",
      "   --------------------------- ------------ 68.8/99.8 MB 5.0 MB/s eta 0:00:07\n",
      "   --------------------------- ------------ 69.1/99.8 MB 5.0 MB/s eta 0:00:07\n",
      "   --------------------------- ------------ 69.3/99.8 MB 5.0 MB/s eta 0:00:07\n",
      "   --------------------------- ------------ 69.5/99.8 MB 5.0 MB/s eta 0:00:07\n",
      "   --------------------------- ------------ 69.8/99.8 MB 5.0 MB/s eta 0:00:06\n",
      "   ---------------------------- ----------- 70.0/99.8 MB 5.0 MB/s eta 0:00:06\n",
      "   ---------------------------- ----------- 70.2/99.8 MB 5.0 MB/s eta 0:00:06\n",
      "   ---------------------------- ----------- 70.5/99.8 MB 5.0 MB/s eta 0:00:06\n",
      "   ---------------------------- ----------- 70.7/99.8 MB 5.0 MB/s eta 0:00:06\n",
      "   ---------------------------- ----------- 70.9/99.8 MB 5.0 MB/s eta 0:00:06\n",
      "   ---------------------------- ----------- 71.2/99.8 MB 5.0 MB/s eta 0:00:06\n",
      "   ---------------------------- ----------- 71.4/99.8 MB 5.0 MB/s eta 0:00:06\n",
      "   ---------------------------- ----------- 71.6/99.8 MB 5.0 MB/s eta 0:00:06\n",
      "   ---------------------------- ----------- 71.9/99.8 MB 5.0 MB/s eta 0:00:06\n",
      "   ---------------------------- ----------- 72.1/99.8 MB 5.0 MB/s eta 0:00:06\n",
      "   ----------------------------- ---------- 72.4/99.8 MB 5.0 MB/s eta 0:00:06\n",
      "   ----------------------------- ---------- 72.6/99.8 MB 5.0 MB/s eta 0:00:06\n",
      "   ----------------------------- ---------- 72.9/99.8 MB 5.0 MB/s eta 0:00:06\n",
      "   ----------------------------- ---------- 73.2/99.8 MB 5.0 MB/s eta 0:00:06\n",
      "   ----------------------------- ---------- 73.4/99.8 MB 5.0 MB/s eta 0:00:06\n",
      "   ----------------------------- ---------- 73.6/99.8 MB 5.0 MB/s eta 0:00:06\n",
      "   ----------------------------- ---------- 73.9/99.8 MB 5.0 MB/s eta 0:00:06\n",
      "   ----------------------------- ---------- 74.1/99.8 MB 5.0 MB/s eta 0:00:06\n",
      "   ----------------------------- ---------- 74.3/99.8 MB 5.0 MB/s eta 0:00:06\n",
      "   ----------------------------- ---------- 74.6/99.8 MB 5.0 MB/s eta 0:00:06\n",
      "   ----------------------------- ---------- 74.8/99.8 MB 5.2 MB/s eta 0:00:05\n",
      "   ------------------------------ --------- 75.0/99.8 MB 5.2 MB/s eta 0:00:05\n",
      "   ------------------------------ --------- 75.3/99.8 MB 5.2 MB/s eta 0:00:05\n",
      "   ------------------------------ --------- 75.6/99.8 MB 5.2 MB/s eta 0:00:05\n",
      "   ------------------------------ --------- 76.0/99.8 MB 5.2 MB/s eta 0:00:05\n",
      "   ------------------------------ --------- 76.3/99.8 MB 5.1 MB/s eta 0:00:05\n",
      "   ------------------------------ --------- 76.7/99.8 MB 5.1 MB/s eta 0:00:05\n",
      "   ------------------------------ --------- 77.0/99.8 MB 5.0 MB/s eta 0:00:05\n",
      "   ------------------------------- -------- 77.3/99.8 MB 5.0 MB/s eta 0:00:05\n",
      "   ------------------------------- -------- 77.8/99.8 MB 5.0 MB/s eta 0:00:05\n",
      "   ------------------------------- -------- 78.1/99.8 MB 5.0 MB/s eta 0:00:05\n",
      "   ------------------------------- -------- 78.4/99.8 MB 5.0 MB/s eta 0:00:05\n",
      "   ------------------------------- -------- 78.6/99.8 MB 5.0 MB/s eta 0:00:05\n",
      "   ------------------------------- -------- 78.8/99.8 MB 5.0 MB/s eta 0:00:05\n",
      "   ------------------------------- -------- 79.1/99.8 MB 5.0 MB/s eta 0:00:05\n",
      "   ------------------------------- -------- 79.5/99.8 MB 5.0 MB/s eta 0:00:05\n",
      "   -------------------------------- ------- 80.2/99.8 MB 5.0 MB/s eta 0:00:04\n",
      "   -------------------------------- ------- 81.5/99.8 MB 4.9 MB/s eta 0:00:04\n",
      "   -------------------------------- ------- 82.2/99.8 MB 5.0 MB/s eta 0:00:04\n",
      "   --------------------------------- ------ 82.7/99.8 MB 5.0 MB/s eta 0:00:04\n",
      "   --------------------------------- ------ 83.2/99.8 MB 5.0 MB/s eta 0:00:04\n",
      "   --------------------------------- ------ 83.5/99.8 MB 5.0 MB/s eta 0:00:04\n",
      "   --------------------------------- ------ 83.8/99.8 MB 5.0 MB/s eta 0:00:04\n",
      "   --------------------------------- ------ 84.2/99.8 MB 5.0 MB/s eta 0:00:04\n",
      "   --------------------------------- ------ 84.6/99.8 MB 5.0 MB/s eta 0:00:04\n",
      "   ---------------------------------- ----- 85.1/99.8 MB 5.0 MB/s eta 0:00:03\n",
      "   ---------------------------------- ----- 85.5/99.8 MB 5.0 MB/s eta 0:00:03\n",
      "   ---------------------------------- ----- 85.7/99.8 MB 5.0 MB/s eta 0:00:03\n",
      "   ---------------------------------- ----- 86.3/99.8 MB 5.0 MB/s eta 0:00:03\n",
      "   ---------------------------------- ----- 86.6/99.8 MB 5.0 MB/s eta 0:00:03\n",
      "   ---------------------------------- ----- 86.9/99.8 MB 5.0 MB/s eta 0:00:03\n",
      "   ----------------------------------- ---- 87.3/99.8 MB 5.0 MB/s eta 0:00:03\n",
      "   ----------------------------------- ---- 88.0/99.8 MB 5.0 MB/s eta 0:00:03\n",
      "   ----------------------------------- ---- 88.5/99.8 MB 5.0 MB/s eta 0:00:03\n",
      "   ----------------------------------- ---- 88.8/99.8 MB 5.0 MB/s eta 0:00:03\n",
      "   ----------------------------------- ---- 89.1/99.8 MB 5.0 MB/s eta 0:00:03\n",
      "   ----------------------------------- ---- 89.3/99.8 MB 5.0 MB/s eta 0:00:03\n",
      "   ------------------------------------ --- 89.8/99.8 MB 5.2 MB/s eta 0:00:02\n",
      "   ------------------------------------ --- 90.1/99.8 MB 5.0 MB/s eta 0:00:02\n",
      "   ------------------------------------ --- 90.3/99.8 MB 5.0 MB/s eta 0:00:02\n",
      "   ------------------------------------ --- 90.6/99.8 MB 5.3 MB/s eta 0:00:02\n",
      "   ------------------------------------ --- 90.8/99.8 MB 5.2 MB/s eta 0:00:02\n",
      "   ------------------------------------ --- 91.1/99.8 MB 5.2 MB/s eta 0:00:02\n",
      "   ------------------------------------ --- 91.4/99.8 MB 5.2 MB/s eta 0:00:02\n",
      "   ------------------------------------ --- 91.7/99.8 MB 5.2 MB/s eta 0:00:02\n",
      "   ------------------------------------ --- 91.9/99.8 MB 5.1 MB/s eta 0:00:02\n",
      "   ------------------------------------- -- 92.3/99.8 MB 5.1 MB/s eta 0:00:02\n",
      "   ------------------------------------- -- 92.5/99.8 MB 5.1 MB/s eta 0:00:02\n",
      "   ------------------------------------- -- 92.7/99.8 MB 5.1 MB/s eta 0:00:02\n",
      "   ------------------------------------- -- 93.0/99.8 MB 5.0 MB/s eta 0:00:02\n",
      "   ------------------------------------- -- 93.3/99.8 MB 5.0 MB/s eta 0:00:02\n",
      "   ------------------------------------- -- 93.6/99.8 MB 5.0 MB/s eta 0:00:02\n",
      "   ------------------------------------- -- 93.8/99.8 MB 5.0 MB/s eta 0:00:02\n",
      "   ------------------------------------- -- 94.1/99.8 MB 5.0 MB/s eta 0:00:02\n",
      "   ------------------------------------- -- 94.4/99.8 MB 5.0 MB/s eta 0:00:02\n",
      "   ------------------------------------- -- 94.6/99.8 MB 5.0 MB/s eta 0:00:02\n",
      "   -------------------------------------- - 94.9/99.8 MB 5.0 MB/s eta 0:00:01\n",
      "   -------------------------------------- - 95.2/99.8 MB 5.0 MB/s eta 0:00:01\n",
      "   -------------------------------------- - 95.5/99.8 MB 5.0 MB/s eta 0:00:01\n",
      "   -------------------------------------- - 95.8/99.8 MB 5.0 MB/s eta 0:00:01\n",
      "   -------------------------------------- - 95.9/99.8 MB 4.8 MB/s eta 0:00:01\n",
      "   -------------------------------------- - 96.3/99.8 MB 4.8 MB/s eta 0:00:01\n",
      "   -------------------------------------- - 97.0/99.8 MB 4.9 MB/s eta 0:00:01\n",
      "   ---------------------------------------  97.4/99.8 MB 4.9 MB/s eta 0:00:01\n",
      "   ---------------------------------------  97.9/99.8 MB 5.0 MB/s eta 0:00:01\n",
      "   ---------------------------------------  98.2/99.8 MB 5.0 MB/s eta 0:00:01\n",
      "   ---------------------------------------  98.6/99.8 MB 5.0 MB/s eta 0:00:01\n",
      "   ---------------------------------------  99.0/99.8 MB 5.0 MB/s eta 0:00:01\n",
      "   ---------------------------------------  99.3/99.8 MB 5.0 MB/s eta 0:00:01\n",
      "   ---------------------------------------  99.6/99.8 MB 5.0 MB/s eta 0:00:01\n",
      "   ---------------------------------------  99.7/99.8 MB 5.0 MB/s eta 0:00:01\n",
      "   ---------------------------------------  99.7/99.8 MB 5.0 MB/s eta 0:00:01\n",
      "   ---------------------------------------  99.7/99.8 MB 5.0 MB/s eta 0:00:01\n",
      "   ---------------------------------------  99.7/99.8 MB 5.0 MB/s eta 0:00:01\n",
      "   ---------------------------------------  99.7/99.8 MB 5.0 MB/s eta 0:00:01\n",
      "   ---------------------------------------  99.7/99.8 MB 5.0 MB/s eta 0:00:01\n",
      "   ---------------------------------------  99.7/99.8 MB 5.0 MB/s eta 0:00:01\n",
      "   ---------------------------------------  99.7/99.8 MB 5.0 MB/s eta 0:00:01\n",
      "   ---------------------------------------  99.7/99.8 MB 5.0 MB/s eta 0:00:01\n",
      "   ---------------------------------------  99.7/99.8 MB 5.0 MB/s eta 0:00:01\n",
      "   ---------------------------------------  99.7/99.8 MB 5.0 MB/s eta 0:00:01\n",
      "   ---------------------------------------  99.7/99.8 MB 5.0 MB/s eta 0:00:01\n",
      "   ---------------------------------------- 99.8/99.8 MB 3.3 MB/s eta 0:00:00\n",
      "Installing collected packages: xgboost\n",
      "Successfully installed xgboost-2.0.3\n",
      "Note: you may need to restart the kernel to use updated packages.\n"
     ]
    }
   ],
   "source": [
    "pip install xgboost"
   ]
  },
  {
   "cell_type": "code",
   "execution_count": 20,
   "id": "9a7769d9",
   "metadata": {},
   "outputs": [
    {
     "data": {
      "text/html": [
       "<style>#sk-container-id-1 {color: black;}#sk-container-id-1 pre{padding: 0;}#sk-container-id-1 div.sk-toggleable {background-color: white;}#sk-container-id-1 label.sk-toggleable__label {cursor: pointer;display: block;width: 100%;margin-bottom: 0;padding: 0.3em;box-sizing: border-box;text-align: center;}#sk-container-id-1 label.sk-toggleable__label-arrow:before {content: \"▸\";float: left;margin-right: 0.25em;color: #696969;}#sk-container-id-1 label.sk-toggleable__label-arrow:hover:before {color: black;}#sk-container-id-1 div.sk-estimator:hover label.sk-toggleable__label-arrow:before {color: black;}#sk-container-id-1 div.sk-toggleable__content {max-height: 0;max-width: 0;overflow: hidden;text-align: left;background-color: #f0f8ff;}#sk-container-id-1 div.sk-toggleable__content pre {margin: 0.2em;color: black;border-radius: 0.25em;background-color: #f0f8ff;}#sk-container-id-1 input.sk-toggleable__control:checked~div.sk-toggleable__content {max-height: 200px;max-width: 100%;overflow: auto;}#sk-container-id-1 input.sk-toggleable__control:checked~label.sk-toggleable__label-arrow:before {content: \"▾\";}#sk-container-id-1 div.sk-estimator input.sk-toggleable__control:checked~label.sk-toggleable__label {background-color: #d4ebff;}#sk-container-id-1 div.sk-label input.sk-toggleable__control:checked~label.sk-toggleable__label {background-color: #d4ebff;}#sk-container-id-1 input.sk-hidden--visually {border: 0;clip: rect(1px 1px 1px 1px);clip: rect(1px, 1px, 1px, 1px);height: 1px;margin: -1px;overflow: hidden;padding: 0;position: absolute;width: 1px;}#sk-container-id-1 div.sk-estimator {font-family: monospace;background-color: #f0f8ff;border: 1px dotted black;border-radius: 0.25em;box-sizing: border-box;margin-bottom: 0.5em;}#sk-container-id-1 div.sk-estimator:hover {background-color: #d4ebff;}#sk-container-id-1 div.sk-parallel-item::after {content: \"\";width: 100%;border-bottom: 1px solid gray;flex-grow: 1;}#sk-container-id-1 div.sk-label:hover label.sk-toggleable__label {background-color: #d4ebff;}#sk-container-id-1 div.sk-serial::before {content: \"\";position: absolute;border-left: 1px solid gray;box-sizing: border-box;top: 0;bottom: 0;left: 50%;z-index: 0;}#sk-container-id-1 div.sk-serial {display: flex;flex-direction: column;align-items: center;background-color: white;padding-right: 0.2em;padding-left: 0.2em;position: relative;}#sk-container-id-1 div.sk-item {position: relative;z-index: 1;}#sk-container-id-1 div.sk-parallel {display: flex;align-items: stretch;justify-content: center;background-color: white;position: relative;}#sk-container-id-1 div.sk-item::before, #sk-container-id-1 div.sk-parallel-item::before {content: \"\";position: absolute;border-left: 1px solid gray;box-sizing: border-box;top: 0;bottom: 0;left: 50%;z-index: -1;}#sk-container-id-1 div.sk-parallel-item {display: flex;flex-direction: column;z-index: 1;position: relative;background-color: white;}#sk-container-id-1 div.sk-parallel-item:first-child::after {align-self: flex-end;width: 50%;}#sk-container-id-1 div.sk-parallel-item:last-child::after {align-self: flex-start;width: 50%;}#sk-container-id-1 div.sk-parallel-item:only-child::after {width: 0;}#sk-container-id-1 div.sk-dashed-wrapped {border: 1px dashed gray;margin: 0 0.4em 0.5em 0.4em;box-sizing: border-box;padding-bottom: 0.4em;background-color: white;}#sk-container-id-1 div.sk-label label {font-family: monospace;font-weight: bold;display: inline-block;line-height: 1.2em;}#sk-container-id-1 div.sk-label-container {text-align: center;}#sk-container-id-1 div.sk-container {/* jupyter's `normalize.less` sets `[hidden] { display: none; }` but bootstrap.min.css set `[hidden] { display: none !important; }` so we also need the `!important` here to be able to override the default hidden behavior on the sphinx rendered scikit-learn.org. See: https://github.com/scikit-learn/scikit-learn/issues/21755 */display: inline-block !important;position: relative;}#sk-container-id-1 div.sk-text-repr-fallback {display: none;}</style><div id=\"sk-container-id-1\" class=\"sk-top-container\"><div class=\"sk-text-repr-fallback\"><pre>GridSearchCV(estimator=XGBClassifier(base_score=None, booster=None,\n",
       "                                     callbacks=None, colsample_bylevel=None,\n",
       "                                     colsample_bynode=None,\n",
       "                                     colsample_bytree=None, device=None,\n",
       "                                     early_stopping_rounds=None,\n",
       "                                     enable_categorical=False, eval_metric=None,\n",
       "                                     feature_types=None, gamma=None,\n",
       "                                     grow_policy=None, importance_type=None,\n",
       "                                     interaction_constraints=None,\n",
       "                                     learning_rate=None, max_b...\n",
       "                                     max_cat_to_onehot=None,\n",
       "                                     max_delta_step=None, max_depth=None,\n",
       "                                     max_leaves=None, min_child_weight=None,\n",
       "                                     missing=nan, monotone_constraints=None,\n",
       "                                     multi_strategy=None, n_estimators=None,\n",
       "                                     n_jobs=None, num_parallel_tree=None,\n",
       "                                     random_state=None, ...),\n",
       "             param_grid={&#x27;learning_rate&#x27;: [0.1], &#x27;max_depth&#x27;: [2],\n",
       "                         &#x27;n_estimators&#x27;: [70],\n",
       "                         &#x27;reg_lambda&#x27;: [0, 2, 3, 4, 5, 6, 7, 8],\n",
       "                         &#x27;subsample&#x27;: [0.3]},\n",
       "             scoring=&#x27;f1&#x27;)</pre><b>In a Jupyter environment, please rerun this cell to show the HTML representation or trust the notebook. <br />On GitHub, the HTML representation is unable to render, please try loading this page with nbviewer.org.</b></div><div class=\"sk-container\" hidden><div class=\"sk-item sk-dashed-wrapped\"><div class=\"sk-label-container\"><div class=\"sk-label sk-toggleable\"><input class=\"sk-toggleable__control sk-hidden--visually\" id=\"sk-estimator-id-1\" type=\"checkbox\" ><label for=\"sk-estimator-id-1\" class=\"sk-toggleable__label sk-toggleable__label-arrow\">GridSearchCV</label><div class=\"sk-toggleable__content\"><pre>GridSearchCV(estimator=XGBClassifier(base_score=None, booster=None,\n",
       "                                     callbacks=None, colsample_bylevel=None,\n",
       "                                     colsample_bynode=None,\n",
       "                                     colsample_bytree=None, device=None,\n",
       "                                     early_stopping_rounds=None,\n",
       "                                     enable_categorical=False, eval_metric=None,\n",
       "                                     feature_types=None, gamma=None,\n",
       "                                     grow_policy=None, importance_type=None,\n",
       "                                     interaction_constraints=None,\n",
       "                                     learning_rate=None, max_b...\n",
       "                                     max_cat_to_onehot=None,\n",
       "                                     max_delta_step=None, max_depth=None,\n",
       "                                     max_leaves=None, min_child_weight=None,\n",
       "                                     missing=nan, monotone_constraints=None,\n",
       "                                     multi_strategy=None, n_estimators=None,\n",
       "                                     n_jobs=None, num_parallel_tree=None,\n",
       "                                     random_state=None, ...),\n",
       "             param_grid={&#x27;learning_rate&#x27;: [0.1], &#x27;max_depth&#x27;: [2],\n",
       "                         &#x27;n_estimators&#x27;: [70],\n",
       "                         &#x27;reg_lambda&#x27;: [0, 2, 3, 4, 5, 6, 7, 8],\n",
       "                         &#x27;subsample&#x27;: [0.3]},\n",
       "             scoring=&#x27;f1&#x27;)</pre></div></div></div><div class=\"sk-parallel\"><div class=\"sk-parallel-item\"><div class=\"sk-item\"><div class=\"sk-label-container\"><div class=\"sk-label sk-toggleable\"><input class=\"sk-toggleable__control sk-hidden--visually\" id=\"sk-estimator-id-2\" type=\"checkbox\" ><label for=\"sk-estimator-id-2\" class=\"sk-toggleable__label sk-toggleable__label-arrow\">estimator: XGBClassifier</label><div class=\"sk-toggleable__content\"><pre>XGBClassifier(base_score=None, booster=None, callbacks=None,\n",
       "              colsample_bylevel=None, colsample_bynode=None,\n",
       "              colsample_bytree=None, device=None, early_stopping_rounds=None,\n",
       "              enable_categorical=False, eval_metric=None, feature_types=None,\n",
       "              gamma=None, grow_policy=None, importance_type=None,\n",
       "              interaction_constraints=None, learning_rate=None, max_bin=None,\n",
       "              max_cat_threshold=None, max_cat_to_onehot=None,\n",
       "              max_delta_step=None, max_depth=None, max_leaves=None,\n",
       "              min_child_weight=None, missing=nan, monotone_constraints=None,\n",
       "              multi_strategy=None, n_estimators=None, n_jobs=None,\n",
       "              num_parallel_tree=None, random_state=None, ...)</pre></div></div></div><div class=\"sk-serial\"><div class=\"sk-item\"><div class=\"sk-estimator sk-toggleable\"><input class=\"sk-toggleable__control sk-hidden--visually\" id=\"sk-estimator-id-3\" type=\"checkbox\" ><label for=\"sk-estimator-id-3\" class=\"sk-toggleable__label sk-toggleable__label-arrow\">XGBClassifier</label><div class=\"sk-toggleable__content\"><pre>XGBClassifier(base_score=None, booster=None, callbacks=None,\n",
       "              colsample_bylevel=None, colsample_bynode=None,\n",
       "              colsample_bytree=None, device=None, early_stopping_rounds=None,\n",
       "              enable_categorical=False, eval_metric=None, feature_types=None,\n",
       "              gamma=None, grow_policy=None, importance_type=None,\n",
       "              interaction_constraints=None, learning_rate=None, max_bin=None,\n",
       "              max_cat_threshold=None, max_cat_to_onehot=None,\n",
       "              max_delta_step=None, max_depth=None, max_leaves=None,\n",
       "              min_child_weight=None, missing=nan, monotone_constraints=None,\n",
       "              multi_strategy=None, n_estimators=None, n_jobs=None,\n",
       "              num_parallel_tree=None, random_state=None, ...)</pre></div></div></div></div></div></div></div></div></div></div>"
      ],
      "text/plain": [
       "GridSearchCV(estimator=XGBClassifier(base_score=None, booster=None,\n",
       "                                     callbacks=None, colsample_bylevel=None,\n",
       "                                     colsample_bynode=None,\n",
       "                                     colsample_bytree=None, device=None,\n",
       "                                     early_stopping_rounds=None,\n",
       "                                     enable_categorical=False, eval_metric=None,\n",
       "                                     feature_types=None, gamma=None,\n",
       "                                     grow_policy=None, importance_type=None,\n",
       "                                     interaction_constraints=None,\n",
       "                                     learning_rate=None, max_b...\n",
       "                                     max_cat_to_onehot=None,\n",
       "                                     max_delta_step=None, max_depth=None,\n",
       "                                     max_leaves=None, min_child_weight=None,\n",
       "                                     missing=nan, monotone_constraints=None,\n",
       "                                     multi_strategy=None, n_estimators=None,\n",
       "                                     n_jobs=None, num_parallel_tree=None,\n",
       "                                     random_state=None, ...),\n",
       "             param_grid={'learning_rate': [0.1], 'max_depth': [2],\n",
       "                         'n_estimators': [70],\n",
       "                         'reg_lambda': [0, 2, 3, 4, 5, 6, 7, 8],\n",
       "                         'subsample': [0.3]},\n",
       "             scoring='f1')"
      ]
     },
     "execution_count": 20,
     "metadata": {},
     "output_type": "execute_result"
    }
   ],
   "source": [
    "#XGBClassifier\n",
    "from xgboost import XGBClassifier\n",
    "grid = {'n_estimators':[70],'max_depth':[2],'learning_rate': [0.1],'subsample': [0.3],'reg_lambda':[0,2,3,4,5,6,7,8]}\n",
    "gs = GridSearchCV(XGBClassifier(),param_grid=grid,scoring='f1')\n",
    "gs.fit(X,y)"
   ]
  },
  {
   "cell_type": "code",
   "execution_count": 21,
   "id": "bfe865cb",
   "metadata": {},
   "outputs": [
    {
     "data": {
      "text/plain": [
       "({'learning_rate': 0.1,\n",
       "  'max_depth': 2,\n",
       "  'n_estimators': 70,\n",
       "  'reg_lambda': 4,\n",
       "  'subsample': 0.3},\n",
       " 0.8538684501851481)"
      ]
     },
     "execution_count": 21,
     "metadata": {},
     "output_type": "execute_result"
    }
   ],
   "source": [
    "gs.best_params_, gs.best_score_"
   ]
  },
  {
   "cell_type": "code",
   "execution_count": 86,
   "id": "ae398acf",
   "metadata": {},
   "outputs": [],
   "source": [
    "xgb = XGBClassifier(n_estimators=77,max_depth=4,learning_rate=0.08656787789095563,subsample=0.7558079331519831)\n",
    "xgb.fit(X_train,y_train)\n",
    "y_pred = xgb.predict(X_test)"
   ]
  },
  {
   "cell_type": "code",
   "execution_count": 83,
   "id": "918c5ba2",
   "metadata": {},
   "outputs": [
    {
     "name": "stdout",
     "output_type": "stream",
     "text": [
      "Precision: 0.9047619047619048\n",
      "Accuracy: 0.8804347826086957\n",
      "Recall: 0.8878504672897196\n",
      "F1_score: 0.8962264150943396\n"
     ]
    }
   ],
   "source": [
    "print(f'Precision: {metrics.precision_score(y_test,y_pred)}\\nAccuracy: {metrics.accuracy_score(y_test,y_pred)}\\nRecall: {metrics.recall_score(y_test,y_pred)}\\nF1_score: {metrics.f1_score(y_test,y_pred)}')"
   ]
  },
  {
   "cell_type": "code",
   "execution_count": null,
   "id": "c2213964",
   "metadata": {},
   "outputs": [],
   "source": []
  },
  {
   "cell_type": "code",
   "execution_count": 87,
   "id": "c96f18eb",
   "metadata": {},
   "outputs": [],
   "source": [
    "y_pred = xgb.predict(X_test)"
   ]
  },
  {
   "cell_type": "code",
   "execution_count": 88,
   "id": "bc153fc2",
   "metadata": {},
   "outputs": [
    {
     "name": "stdout",
     "output_type": "stream",
     "text": [
      "Precision: 0.9223300970873787\n",
      "Accuracy: 0.8913043478260869\n",
      "Recall: 0.8878504672897196\n",
      "F1_score: 0.9047619047619048\n"
     ]
    }
   ],
   "source": [
    "print(f'Precision: {metrics.precision_score(y_test,y_pred)}\\nAccuracy: {metrics.accuracy_score(y_test,y_pred)}\\nRecall: {metrics.recall_score(y_test,y_pred)}\\nF1_score: {metrics.f1_score(y_test,y_pred)}')"
   ]
  },
  {
   "cell_type": "code",
   "execution_count": null,
   "id": "efcad24a",
   "metadata": {},
   "outputs": [],
   "source": []
  },
  {
   "cell_type": "code",
   "execution_count": null,
   "id": "3d1b25bd",
   "metadata": {},
   "outputs": [],
   "source": []
  },
  {
   "cell_type": "code",
   "execution_count": null,
   "id": "25fabc4e",
   "metadata": {},
   "outputs": [],
   "source": []
  },
  {
   "cell_type": "code",
   "execution_count": 15,
   "id": "0bb847fb",
   "metadata": {},
   "outputs": [],
   "source": [
    "import hyperopt\n",
    "from hyperopt import hp"
   ]
  },
  {
   "cell_type": "code",
   "execution_count": 22,
   "id": "e65b41f1",
   "metadata": {},
   "outputs": [],
   "source": [
    "space = {'n_estimators': hp.quniform('n_estimators',70,90,1),'max_depth':hp.quniform('max_depth',1,10,1),'learning_rate': hp.uniform('learning_rate',0.001,0.1),'subsample': hp.uniform('subsample',0,1)}\n",
    "\n",
    "def objective(space):\n",
    "    xgb= XGBClassifier(n_estimators = int(space['n_estimators']), max_depth = int(space['max_depth']),learning_rate=space['learning_rate'],subsample=space['subsample'])\n",
    "    xgb.fit(X_train, y_train)\n",
    "    pred = xgb.predict(X_test)\n",
    "    f1 = metrics.f1_score(y_test, pred>0.5)\n",
    "    return {'loss': -f1, 'status': hyperopt.STATUS_OK }"
   ]
  },
  {
   "cell_type": "code",
   "execution_count": 25,
   "id": "ab16326e",
   "metadata": {
    "scrolled": true
   },
   "outputs": [
    {
     "name": "stdout",
     "output_type": "stream",
     "text": [
      "100%|██████████| 100/100 [00:08<00:00, 11.64trial/s, best loss: -0.9245283018867924]\n"
     ]
    }
   ],
   "source": [
    "\n",
    "trials = hyperopt.Trials()\n",
    "\n",
    "best_hyperparams = hyperopt.fmin(fn = objective,\n",
    "                        space = space,\n",
    "                        algo = hyperopt.tpe.suggest,\n",
    "                        max_evals = 100,\n",
    "                        trials = trials)"
   ]
  },
  {
   "cell_type": "code",
   "execution_count": 24,
   "id": "db9e7d56",
   "metadata": {
    "scrolled": true
   },
   "outputs": [
    {
     "data": {
      "text/plain": [
       "{'learning_rate': 0.040733134674701243,\n",
       " 'max_depth': 6.0,\n",
       " 'n_estimators': 86.0,\n",
       " 'subsample': 0.4129926680033541}"
      ]
     },
     "execution_count": 24,
     "metadata": {},
     "output_type": "execute_result"
    }
   ],
   "source": [
    "best_hyperparams"
   ]
  },
  {
   "cell_type": "code",
   "execution_count": null,
   "id": "71d0b45b",
   "metadata": {},
   "outputs": [],
   "source": []
  },
  {
   "cell_type": "code",
   "execution_count": null,
   "id": "9ad48d85",
   "metadata": {},
   "outputs": [],
   "source": []
  }
 ],
 "metadata": {
  "kernelspec": {
   "display_name": "Python 3 (ipykernel)",
   "language": "python",
   "name": "python3"
  },
  "language_info": {
   "codemirror_mode": {
    "name": "ipython",
    "version": 3
   },
   "file_extension": ".py",
   "mimetype": "text/x-python",
   "name": "python",
   "nbconvert_exporter": "python",
   "pygments_lexer": "ipython3",
   "version": "3.11.5"
  }
 },
 "nbformat": 4,
 "nbformat_minor": 5
}
